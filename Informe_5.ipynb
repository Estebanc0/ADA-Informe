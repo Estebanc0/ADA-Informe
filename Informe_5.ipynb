{
  "nbformat": 4,
  "nbformat_minor": 0,
  "metadata": {
    "colab": {
      "provenance": [],
      "collapsed_sections": [],
      "authorship_tag": "ABX9TyPA1yoTidZADfFgiNccOxOh",
      "include_colab_link": true
    },
    "kernelspec": {
      "name": "python3",
      "display_name": "Python 3"
    },
    "language_info": {
      "name": "python"
    }
  },
  "cells": [
    {
      "cell_type": "markdown",
      "metadata": {
        "id": "view-in-github",
        "colab_type": "text"
      },
      "source": [
        "<a href=\"https://colab.research.google.com/github/Estebanc0/ADA-Informes/blob/main/Informe_5.ipynb\" target=\"_parent\"><img src=\"https://colab.research.google.com/assets/colab-badge.svg\" alt=\"Open In Colab\"/></a>"
      ]
    },
    {
      "cell_type": "markdown",
      "source": [
        "# Descripción del problema:\n",
        "\n",
        "\n",
        "Entrada: un arreglo de n números desordenado siendo n el largo del arreglo\n",
        "\n",
        "Salida: el mismo arreglo de tamaño n pero ordenado de menor a mayor\n"
      ],
      "metadata": {
        "id": "Gt-kroHG-u40"
      }
    },
    {
      "cell_type": "markdown",
      "source": [
        "# Descripción del algoritmo\n",
        "\n",
        "\n",
        "Radixsort es un algoritmo que clasifica los elementos agrupando primero los dígitos individuales del mismo valor posicional y luego ordena los elementos según su orden creciente/decreciente. Esto lo hace de siguiente forma:\n",
        "\n",
        "\n",
        "\n",
        "\n",
        "\n",
        "1.   Recibe como entrada un array de n números.\n",
        "\n",
        "2.   Encuentra el máximo elemento en el array.\n",
        "\n",
        "3.   Utiliza a countingSort (o cualquier otra técnica de clasificación estable) para revisar cada lugar significativo. Ordenando primero los elementos según los dígitos en el lugar de las unidades.\n",
        "\n",
        "\n",
        "\n",
        "1.   Luego ordena los elementos según los dígitos en el lugar de las decenas.\n",
        "\n",
        "2.   Finalmente, ordena los elementos según los dígitos en el lugar de las centenas y retorna el array inicial pero ordenado.\n",
        "\n"
      ],
      "metadata": {
        "id": "apOiLmxs-uhV"
      }
    },
    {
      "cell_type": "code",
      "execution_count": null,
      "metadata": {
        "id": "dMSoo-3iCSZJ"
      },
      "outputs": [],
      "source": [
        "def countingSort(array, place,verbose=False):\n",
        "    global pasada\n",
        "    size = len(array)\n",
        "    output = [0] * size\n",
        "    count = [0] * 10\n",
        "    pasada+=1\n",
        "    if verbose==True and pasada==1: print(\"Ordenando las unidades\\n\")\n",
        "    if verbose==True and pasada==2: print(\"Ordenando las decenas\\n\")\n",
        "    if verbose==True and pasada==3: print(\"Ordenando las centenas\\n\")\n",
        "    \n",
        "    # Calculate count of elements\n",
        "    for i in range(0, size):\n",
        "        index = array[i] // place\n",
        "        count[index % 10] += 1\n",
        "    if verbose==True: print(\"Recuento de cada elemento:\",count)\n",
        "    # Calculate cumulative count\n",
        "    for i in range(1, 10):\n",
        "        count[i] += count[i - 1]\n",
        "    \n",
        "    # Place the elements in sorted order\n",
        "    i = size - 1\n",
        "    while i >= 0:\n",
        "        index = array[i] // place\n",
        "        output[count[index % 10] - 1] = array[i]\n",
        "        count[index % 10] -= 1\n",
        "        i -= 1\n",
        "    if verbose==True: print(\"Cambia los elementos a su posicion en el arreglo de salida:\",count)\n",
        "    for i in range(0, size):\n",
        "        array[i] = output[i]\n",
        "    if verbose==True: print(\"Salida de countingSort:\",array,\"\\n\")    "
      ]
    },
    {
      "cell_type": "code",
      "source": [
        "def radix_Sort(array,verbose=False):\n",
        "    # Get maximum element\n",
        "    max_element = max(array)\n",
        "\n",
        "    # Apply counting sort to sort elements based on place value.\n",
        "    place = 1\n",
        "    while max_element // place > 0:\n",
        "        if verbose==True: countingSort(array, place,verbose=True)\n",
        "        else: countingSort(array, place)\n",
        "        place *= 10\n",
        "    return array\n"
      ],
      "metadata": {
        "id": "Xknzp7bJI4NY"
      },
      "execution_count": null,
      "outputs": []
    },
    {
      "cell_type": "code",
      "source": [
        "arr = [5,20,5,13,6,8,34,1]\n",
        "pasada=0\n",
        "print(\"Arreglo que entra:\",arr,\"\\n\")\n",
        "ans = radix_Sort(arr)\n",
        "print(\"Arreglo ordenado \",ans)"
      ],
      "metadata": {
        "colab": {
          "base_uri": "https://localhost:8080/"
        },
        "id": "GjSLNuCUDtsn",
        "outputId": "22e0cf30-ce38-4715-8046-232b4312be08"
      },
      "execution_count": null,
      "outputs": [
        {
          "output_type": "stream",
          "name": "stdout",
          "text": [
            "Arreglo que entra: [5, 20, 5, 13, 6, 8, 34, 1] \n",
            "\n",
            "Arreglo ordenado  [1, 5, 5, 6, 8, 13, 20, 34]\n"
          ]
        }
      ]
    },
    {
      "cell_type": "markdown",
      "source": [
        "# Ejemplo mediante la funcion verbose"
      ],
      "metadata": {
        "id": "Kc4XoAsLBfQ5"
      }
    },
    {
      "cell_type": "code",
      "source": [
        "arr = [2000,345,13,6,8877,34,1]\n",
        "pasada=0\n",
        "print(\"Arreglo que entra:\",arr,\"\\n\")\n",
        "ans = radix_Sort(arr,verbose=True)\n",
        "print(\"Arreglo ordenado \",ans)"
      ],
      "metadata": {
        "id": "aEIztW5cVwz9",
        "colab": {
          "base_uri": "https://localhost:8080/"
        },
        "outputId": "4d2c6ebd-a325-4891-cf9d-2b7adbd6e0f0"
      },
      "execution_count": null,
      "outputs": [
        {
          "output_type": "stream",
          "name": "stdout",
          "text": [
            "Arreglo que entra: [2000, 345, 13, 6, 8877, 34, 1] \n",
            "\n",
            "Ordenando las unidades\n",
            "\n",
            "Recuento de cada elemento: [1, 1, 0, 1, 1, 1, 1, 1, 0, 0]\n",
            "Cambia los elementos a su posicion en el arreglo de salida: [0, 1, 2, 2, 3, 4, 5, 6, 7, 7]\n",
            "Salida de countingSort: [2000, 1, 13, 34, 345, 6, 8877] \n",
            "\n",
            "Ordenando las decenas\n",
            "\n",
            "Recuento de cada elemento: [3, 1, 0, 1, 1, 0, 0, 1, 0, 0]\n",
            "Cambia los elementos a su posicion en el arreglo de salida: [0, 3, 4, 4, 5, 6, 6, 6, 7, 7]\n",
            "Salida de countingSort: [2000, 1, 6, 13, 34, 345, 8877] \n",
            "\n",
            "Ordenando las centenas\n",
            "\n",
            "Recuento de cada elemento: [5, 0, 0, 1, 0, 0, 0, 0, 1, 0]\n",
            "Cambia los elementos a su posicion en el arreglo de salida: [0, 5, 5, 5, 6, 6, 6, 6, 6, 7]\n",
            "Salida de countingSort: [2000, 1, 6, 13, 34, 345, 8877] \n",
            "\n",
            "Recuento de cada elemento: [5, 0, 1, 0, 0, 0, 0, 0, 1, 0]\n",
            "Cambia los elementos a su posicion en el arreglo de salida: [0, 5, 5, 6, 6, 6, 6, 6, 6, 7]\n",
            "Salida de countingSort: [1, 6, 13, 34, 345, 2000, 8877] \n",
            "\n",
            "Arreglo ordenado  [1, 6, 13, 34, 345, 2000, 8877]\n"
          ]
        }
      ]
    },
    {
      "cell_type": "markdown",
      "source": [
        "# Correctitud\n",
        "\n"
      ],
      "metadata": {
        "id": "Tm5I0U67DZ69"
      }
    },
    {
      "cell_type": "markdown",
      "source": [
        "# Tiempo de ejecución\n",
        "Como se está utilizando countinSort para la implementación RadixSort tendrá su misma complejidad temporal de O(n+k) tanto en su mejor caso, caso promedio y peor caso."
      ],
      "metadata": {
        "id": "3z5Ckq1NCeF_"
      }
    },
    {
      "cell_type": "markdown",
      "source": [
        "# Comparacion entre radixSort y Bucketsort"
      ],
      "metadata": {
        "id": "APrFatd6DfyL"
      }
    },
    {
      "cell_type": "code",
      "source": [
        "def bucket_sort(alist):\n",
        "    largest = max(alist)\n",
        "    length = len(alist)\n",
        "    size = largest/length\n",
        " \n",
        "    buckets = [[] for _ in range(length)]\n",
        "    for i in range(length):\n",
        "        j = int(alist[i]/size)\n",
        "        if j != length:\n",
        "            buckets[j].append(alist[i])\n",
        "        else:\n",
        "            buckets[length - 1].append(alist[i])\n",
        " \n",
        "    for i in range(length):\n",
        "        insertion_sort(buckets[i])\n",
        " \n",
        "    result = []\n",
        "    for i in range(length):\n",
        "        result = result + buckets[i]\n",
        " \n",
        "    return result\n",
        " \n",
        "def insertion_sort(alist):\n",
        "    for i in range(1, len(alist)):\n",
        "        temp = alist[i]\n",
        "        j = i - 1\n",
        "        while (j >= 0 and temp < alist[j]):\n",
        "            alist[j + 1] = alist[j]\n",
        "            j = j - 1\n",
        "        alist[j + 1] = temp"
      ],
      "metadata": {
        "id": "r-arwO1sDvdB"
      },
      "execution_count": null,
      "outputs": []
    },
    {
      "cell_type": "code",
      "source": [
        "import matplotlib.pyplot as plt\n",
        "import datetime\n",
        "import random\n",
        "from timeit import repeat\n",
        "\n",
        "x=[]; y=[]; z=[]\n",
        "\n",
        "for n in range(5,500):\n",
        "\n",
        "  a = random.sample(range(1, 1000), n)\n",
        "\n",
        " \n",
        "  t = repeat(setup=\"from __main__ import bucket_sort\", stmt=f\"bucket_sort({a})\", repeat=1, number=10)\n",
        "  h = repeat(setup=\"from __main__ import radix_Sort\", stmt=f\"radix_Sort({a})\", repeat=1, number=10)\n",
        "\n",
        "  x.append(n)\n",
        "  y.append(t)\n",
        "  z.append(h)\n",
        "\n",
        "plt.plot(x,y,z)\n",
        "plt.legend([\"BucketSort\",\"RadixSort\"])\n",
        "plt.xlabel('Tamaño del array')\n",
        "plt.ylabel('time in ms')\n",
        "plt.show()"
      ],
      "metadata": {
        "colab": {
          "base_uri": "https://localhost:8080/",
          "height": 279
        },
        "id": "SGpgZ078D6Rh",
        "outputId": "31a7d183-7115-435c-cbd9-9ffb4bcfd0ea"
      },
      "execution_count": null,
      "outputs": [
        {
          "output_type": "display_data",
          "data": {
            "text/plain": [
              "<Figure size 432x288 with 1 Axes>"
            ],
            "image/png": "[encoded data removed]"
          },
          "metadata": {
            "needs_background": "light"
          }
        }
      ]
    },
    {
      "cell_type": "markdown",
      "source": [
        "# Análisis\n",
        "Como se logra Apreciar en el gráfico Bucketsort posee un tiempo de ejecución menor que el de radixSort esto debido a que Bucketsort (con esta implementación) posee un tiempo de O(n) mientras radixSort (con esta implementación posee uno de O(n+k)"
      ],
      "metadata": {
        "id": "dTbS2_r7czJU"
      }
    }
  ]
}