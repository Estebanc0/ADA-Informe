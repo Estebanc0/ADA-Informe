{
  "nbformat": 4,
  "nbformat_minor": 0,
  "metadata": {
    "colab": {
      "provenance": [],
      "authorship_tag": "ABX9TyN35ALR3tJM2TMbth9zaEuZ",
      "include_colab_link": true
    },
    "kernelspec": {
      "name": "python3",
      "display_name": "Python 3"
    },
    "language_info": {
      "name": "python"
    }
  },
  "cells": [
    {
      "cell_type": "markdown",
      "metadata": {
        "id": "view-in-github",
        "colab_type": "text"
      },
      "source": [
        "<a href=\"https://colab.research.google.com/github/Estebanc0/ADA-Informes/blob/main/informe_12.ipynb\" target=\"_parent\"><img src=\"https://colab.research.google.com/assets/colab-badge.svg\" alt=\"Open In Colab\"/></a>"
      ]
    },
    {
      "cell_type": "markdown",
      "source": [
        "# Descripcion del problema\n",
        "\n",
        "Entrada: Un grafo coo los bordes y sus respectivos pesos y un vértice src.\n",
        "\n",
        "Salida: una matriz donde cada índice denota la longitud de ruta más corta entre ese vértice y el vértice src."
      ],
      "metadata": {
        "id": "nuYEY7Wqb7Ey"
      }
    },
    {
      "cell_type": "markdown",
      "source": [
        "# Descripcion del algoritmo\n",
        "\n",
        "\n",
        "1.   En este paso, declararíamos una matriz de tamaño V (Número de vértices) digamos dis[] e inicializaríamos con todos sus índices con un Valor muy grande (preferiblemente INT_MAX) excepto src que se inicializará con el valor 0. Estamos haciendo esto porque inicialmente asumimos que lleva un tiempo infinito llegar a cualquiera de los vértices de nuestro vértice de origen y estamos inicializando dis[src]=0 porque ya estamos en el vértice de origen.\n",
        "\n",
        "2.   En este paso, se calcula la distancia más corta. Para ello, haríamos el paso subyacente V-1 veces. Para cada arista u→v hacer dis[v]=min(dis[u]+ wt de arista u→v, dis[v]) Esto significa que cada vez que estemos en cualquier vértice u comprobaremos si podemos alcanzar alguno de sus vecinos en menos tiempo que actualmente es posible visitar, actualizaremos el dis[v] a dis[u]+wt del borde u→v.\n",
        "\n",
        "1.   En este paso, verificaremos si existe un ciclo de peso de borde negativo que atraviese todos y cada uno de los bordes u→v y verificaremos si existe dis[u] + wt del borde u→v < dis[v], entonces nuestro gráfico contiene un valor negativo ciclo de peso de borde porque atravesar los bordes una y otra vez es beneficioso ya que reduce el costo de recorrer el gráfico.\n",
        "\n",
        "\n",
        "\n",
        "\n"
      ],
      "metadata": {
        "id": "og0EVqOKb7PV"
      }
    },
    {
      "cell_type": "markdown",
      "source": [
        "# Generadores de instancias"
      ],
      "metadata": {
        "id": "QLbhFzUAF0iI"
      }
    },
    {
      "cell_type": "code",
      "source": [
        "import random\n",
        "import networkx as nx\n",
        "\n",
        "### Generadores de instancia ###\n",
        "\n",
        "def is_valid_edge(generated_edges: dict, i: int, j: int):\n",
        "    return i != j and not generated_edges.get((i, j), None) and not generated_edges.get((j, i), None)\n",
        "\n",
        "def instance_generator_b(n: int):\n",
        "    \"\"\"\n",
        "        Input: cantidad de vértices\n",
        "        Output: una lista que contiene todos los arcos y el número del vértice fuente (la función retorna dos variables).\n",
        "        Los arcos vienen en la forma (i, j, weight), donde i es el vértice origen del arco y j el vértice al que apunta el arco, mientras que weight es su peso.\n",
        "    \"\"\"\n",
        "    graph = []\n",
        "    nodes = random.sample(range(0, n), n)\n",
        "    unvisited_nodes = random.sample(range(0, n), n)\n",
        "    \n",
        "    generated_edges = {}\n",
        "    for i in nodes:\n",
        "        rand = random.sample(nodes, random.randint(1, 3))\n",
        "\n",
        "        for j in rand:\n",
        "            edge = (i, j)\n",
        "            edge_with_weight = (i, j, random.randint(1, 100))\n",
        "            \n",
        "            if generated_edges.get((edge[1], edge[0]), None):\n",
        "                continue\n",
        "            \n",
        "            if i == j:\n",
        "                new_vertice = None\n",
        "                iterations = 0\n",
        "                while new_vertice is None and iterations < 250:\n",
        "                    iterations += 1\n",
        "                    number = random.randint(0, n - 1)\n",
        "                    if is_valid_edge(generated_edges, i, number):\n",
        "                        new_vertice = number\n",
        "\n",
        "                if iterations >= 250:\n",
        "                    return instance_generator_b(n)\n",
        "                \n",
        "                edge = (i, new_vertice)\n",
        "                edge_with_weight = (i, new_vertice, random.randint(-25, 100)) # -25 y 100 corresponde a los límites de los pesos, puede cambiarlos.\n",
        "            \n",
        "            graph.append(edge_with_weight)\n",
        "            generated_edges[edge] = edge\n",
        "\n",
        "            if edge_with_weight[1] in unvisited_nodes:\n",
        "                unvisited_nodes.remove(edge_with_weight[1])\n",
        "\n",
        "    for i in unvisited_nodes:\n",
        "        valid_edge = False\n",
        "        iterations = 0\n",
        "        while not valid_edge and iterations < 250:\n",
        "            iterations += 1\n",
        "            m = random.randint(0, n - 1)\n",
        "            if is_valid_edge(generated_edges, m, i):\n",
        "                valid_edge = True\n",
        "                edge = (m, i)\n",
        "                edge_with_weight = (m, i, random.randint(-25, 100)) # -25 y 100 corresponde a los límites de los pesos, puede cambiarlos.\n",
        "                graph.append(edge_with_weight)\n",
        "                generated_edges[edge] = edge\n",
        "\n",
        "        if iterations >= 250:\n",
        "            return instance_generator_b(n)\n",
        "\n",
        "    return graph, graph[0][0]\n",
        "\n",
        "def instance_generator_d(n: int):\n",
        "    \"\"\"\n",
        "        Input: cantidad de vértices\n",
        "        Output: una lista que contiene todos los arcos y el número del vértice fuente (la función retorna dos variables).\n",
        "        Los arcos vienen en la forma (i, j, weight), donde i es el vértice origen del arco y j el vértice al que apunta el arco, mientras que weight es su peso.\n",
        "    \"\"\"\n",
        "    graph = []\n",
        "    nodes = random.sample(range(0, n), n)\n",
        "    unvisited_nodes = random.sample(range(0, n), n)\n",
        "    \n",
        "    generated_edges = {}\n",
        "    for i in nodes:\n",
        "        rand = random.sample(nodes, random.randint(1, 3))\n",
        "\n",
        "        for j in rand:\n",
        "            edge = (i, j)\n",
        "            edge_with_weight = (i, j, random.randint(1, 100))\n",
        "            \n",
        "            if generated_edges.get((edge[1], edge[0]), None):\n",
        "                continue\n",
        "            \n",
        "            if i == j:\n",
        "                new_vertice = None\n",
        "                iterations = 0\n",
        "                while new_vertice is None and iterations < 250:\n",
        "                    iterations += 1\n",
        "                    number = random.randint(0, n - 1)\n",
        "                    if is_valid_edge(generated_edges, i, number):\n",
        "                        new_vertice = number\n",
        "\n",
        "                if iterations >= 250:\n",
        "                    return instance_generator_d(n)\n",
        "                \n",
        "                edge = (i, new_vertice)\n",
        "                edge_with_weight = (i, new_vertice, random.randint(0, 100)) # -25 y 100 corresponde a los límites de los pesos, puede cambiarlos.\n",
        "            \n",
        "            graph.append(edge_with_weight)\n",
        "            generated_edges[edge] = edge\n",
        "\n",
        "            if edge_with_weight[1] in unvisited_nodes:\n",
        "                unvisited_nodes.remove(edge_with_weight[1])\n",
        "\n",
        "    for i in unvisited_nodes:\n",
        "        valid_edge = False\n",
        "        iterations = 0\n",
        "        while not valid_edge and iterations < 250:\n",
        "            iterations += 1\n",
        "            m = random.randint(0, n - 1)\n",
        "            if is_valid_edge(generated_edges, m, i):\n",
        "                valid_edge = True\n",
        "                edge = (m, i)\n",
        "                edge_with_weight = (m, i, random.randint(0, 100)) # -25 y 100 corresponde a los límites de los pesos, puede cambiarlos.\n",
        "                graph.append(edge_with_weight)\n",
        "                generated_edges[edge] = edge\n",
        "\n",
        "        if iterations >= 250:\n",
        "            return instance_generator_d(n)\n",
        "\n",
        "    return graph, graph[0][0]\n",
        "\n",
        "##Conversión de grafo al formato \"networkx\"##\n",
        "def graph_to_nxdigraph(graph: list, n: int):\n",
        "    \"\"\"\n",
        "        Input: Un grafo en formato list[tuple]. Ej: [(0, 1, 10), (1, 2, 15), (2, 0, 7)].\n",
        "        Output: Un nx.DiGraph de la libreria networkx.\n",
        "    \"\"\"\n",
        "    nxdigraph = nx.DiGraph()\n",
        "    [nxdigraph.add_node(i) for i in range(n)]\n",
        "\n",
        "    for v in graph:\n",
        "        nxdigraph.add_edge(v[0], v[1], weight=v[2])\n",
        "\n",
        "    return nxdigraph"
      ],
      "metadata": {
        "id": "9o84cA1QF4GG"
      },
      "execution_count": null,
      "outputs": []
    },
    {
      "cell_type": "code",
      "execution_count": null,
      "metadata": {
        "id": "z2byshVIb0x7"
      },
      "outputs": [],
      "source": [
        "def bellmanFord(V, src, edges, verbose=False, visualize=False):\n",
        " \n",
        "  dis = [99999999] * edges\n",
        "  dis[src] = 0 \n",
        "  if verbose == True: print(f\"Se inicializa la lista de distancias: {dis}\")\n",
        "  if visualize == True:\n",
        "    G_to_networkx = graph_to_nxdigraph(V, edges) #Se transforma nuestro grafo a uno compatible con la libreria networkx\n",
        "    pos=nx.spring_layout(G_to_networkx)\n",
        "    labels = nx.get_edge_attributes(G_to_networkx,'weight') #Se agregan los pesos a nuestro grafo visual\n",
        "    #Con ayuda de los comandos proveídos por networkx, mostramos en pantalla el grafo en el que se está trabajando\n",
        "    nx.draw_networkx_edge_labels(G_to_networkx,pos,edge_labels=labels,font_size=10)\n",
        "    nx.draw(G_to_networkx, pos, with_labels = True, node_size=800, font_color=\"white\", font_size=14, font_weight=\"black\", width  =2.0, edge_color =\"green\")\n",
        "\n",
        "  if verbose == True: print(\"\\n Recorremos todos los arcos del grafo\")\n",
        "  for i in range(edges-1):\n",
        "    if verbose == True: \n",
        "      print(f\"Iteración {i+1}\")\n",
        "    for u, v, wt in V:\n",
        "      if dis[u] != 99999999 and dis[u] + wt < dis[v]:\n",
        "        dis[v] = dis[u] + wt\n",
        "        if verbose == True: print(f\"Nuevo camino más corto entre {src} y {v}! --> {dis[v]}\")\n",
        "  \n",
        "  if verbose == True: print(\"Se buscan ciclos negativos\")\n",
        "  for u, v, wt in V:\n",
        "    if dis[u] != 99999999 and dis[u] + wt < dis[v]:   \n",
        "      if verbose == True: print(f\"Se encontro un ciclo negativo se muestra un mensaje y se retorna una lista de distancias vacias\")\n",
        "      print(\"EL GRAFO POSEE UN CICLO NEGATIVO\")  \n",
        "      return []\n",
        "\n",
        "  if verbose==True: print(\"\\nNo se encontraron ciclos negativos se retorna una lista con las distancias\")   \n",
        "  print(\"Distancia de cada vértice desde la fuente:\")\n",
        "  for i in range(len(dis)):\n",
        "   print(\"{0}\\t\\t{1}\".format(i, dis[i]))\n",
        "  \n",
        "  return dis"
      ]
    },
    {
      "cell_type": "markdown",
      "source": [
        "# Ejemplo con funcion verbose"
      ],
      "metadata": {
        "id": "JnPfeXHgWbgx"
      }
    },
    {
      "cell_type": "code",
      "source": [
        "n_bellman = random.randint(5,25)\n",
        "G_bellman, fuente_bellman = instance_generator_b(n_bellman)\n",
        "\n",
        "print(\"entrada:\",G_bellman)\n",
        "\n",
        "d=bellmanFord(G_bellman, fuente_bellman, n_bellman, verbose = True, visualize  = False)\n"
      ],
      "metadata": {
        "colab": {
          "base_uri": "https://localhost:8080/"
        },
        "id": "mq0r9kyBI4hM",
        "outputId": "d08e8029-3916-43fd-e700-fff325b63aed"
      },
      "execution_count": null,
      "outputs": [
        {
          "output_type": "stream",
          "name": "stdout",
          "text": [
            "entrada: [(3, 18, 29), (3, 24, 35), (2, 19, 95), (2, 5, 97), (24, 8, 37), (24, 10, 48), (10, 2, 98), (10, 22, 60), (10, 21, 79), (12, 0, 38), (12, 6, 33), (21, 14, 62), (21, 8, 4), (17, 6, 69), (17, 15, 47), (17, 13, 13), (9, 23, 83), (9, 15, 67), (19, 14, 72), (23, 14, 81), (23, 10, 13), (23, 12, 80), (16, 4, 35), (16, 13, 49), (16, 17, 22), (1, 20, 45), (1, 19, 83), (4, 3, 36), (4, 6, 1), (0, 5, 74), (7, 2, 67), (7, 10, 55), (11, 9, 72), (11, 18, 41), (15, 5, 16), (8, 6, 86), (8, 1, 75), (5, 9, 35), (20, 17, 44), (20, 24, 36), (20, 2, 98), (6, 22, 5), (6, 19, 83), (6, 16, 98), (22, 7, 57), (22, 4, 8), (22, 14, 13), (14, 0, 7), (14, 13, 4), (13, 20, -8), (13, 7, 75), (13, 0, 16), (18, 10, 84), (2, 11, -22)]\n",
            "Se inicializa la lista de distancias: [99999999, 99999999, 99999999, 0, 99999999, 99999999, 99999999, 99999999, 99999999, 99999999, 99999999, 99999999, 99999999, 99999999, 99999999, 99999999, 99999999, 99999999, 99999999, 99999999, 99999999, 99999999, 99999999, 99999999, 99999999]\n",
            "\n",
            " Recorremos todos los arcos del grafo\n",
            "Iteración 1\n",
            "Nuevo camino más corto entre 3 y 18! --> 29\n",
            "Nuevo camino más corto entre 3 y 24! --> 35\n",
            "Nuevo camino más corto entre 3 y 8! --> 72\n",
            "Nuevo camino más corto entre 3 y 10! --> 83\n",
            "Nuevo camino más corto entre 3 y 2! --> 181\n",
            "Nuevo camino más corto entre 3 y 22! --> 143\n",
            "Nuevo camino más corto entre 3 y 21! --> 162\n",
            "Nuevo camino más corto entre 3 y 14! --> 224\n",
            "Nuevo camino más corto entre 3 y 6! --> 158\n",
            "Nuevo camino más corto entre 3 y 1! --> 147\n",
            "Nuevo camino más corto entre 3 y 19! --> 241\n",
            "Nuevo camino más corto entre 3 y 16! --> 256\n",
            "Nuevo camino más corto entre 3 y 7! --> 200\n",
            "Nuevo camino más corto entre 3 y 4! --> 151\n",
            "Nuevo camino más corto entre 3 y 14! --> 156\n",
            "Nuevo camino más corto entre 3 y 0! --> 163\n",
            "Nuevo camino más corto entre 3 y 13! --> 160\n",
            "Nuevo camino más corto entre 3 y 20! --> 152\n",
            "Nuevo camino más corto entre 3 y 11! --> 159\n",
            "Iteración 2\n",
            "Nuevo camino más corto entre 3 y 5! --> 278\n",
            "Nuevo camino más corto entre 3 y 17! --> 278\n",
            "Nuevo camino más corto entre 3 y 19! --> 230\n",
            "Nuevo camino más corto entre 3 y 6! --> 152\n",
            "Nuevo camino más corto entre 3 y 5! --> 237\n",
            "Nuevo camino más corto entre 3 y 9! --> 231\n",
            "Nuevo camino más corto entre 3 y 17! --> 196\n",
            "Nuevo camino más corto entre 3 y 16! --> 250\n",
            "Iteración 3\n",
            "Nuevo camino más corto entre 3 y 15! --> 243\n",
            "Nuevo camino más corto entre 3 y 23! --> 314\n",
            "Nuevo camino más corto entre 3 y 12! --> 394\n",
            "Iteración 4\n",
            "Iteración 5\n",
            "Iteración 6\n",
            "Iteración 7\n",
            "Iteración 8\n",
            "Iteración 9\n",
            "Iteración 10\n",
            "Iteración 11\n",
            "Iteración 12\n",
            "Iteración 13\n",
            "Iteración 14\n",
            "Iteración 15\n",
            "Iteración 16\n",
            "Iteración 17\n",
            "Iteración 18\n",
            "Iteración 19\n",
            "Iteración 20\n",
            "Iteración 21\n",
            "Iteración 22\n",
            "Iteración 23\n",
            "Iteración 24\n",
            "Se buscan ciclos negativos\n",
            "\n",
            "No se encontraron ciclos negativos se retorna una lista con las distancias\n",
            "Distancia de cada vértice desde la fuente:\n",
            "0\t\t163\n",
            "1\t\t147\n",
            "2\t\t181\n",
            "3\t\t0\n",
            "4\t\t151\n",
            "5\t\t237\n",
            "6\t\t152\n",
            "7\t\t200\n",
            "8\t\t72\n",
            "9\t\t231\n",
            "10\t\t83\n",
            "11\t\t159\n",
            "12\t\t394\n",
            "13\t\t160\n",
            "14\t\t156\n",
            "15\t\t243\n",
            "16\t\t250\n",
            "17\t\t196\n",
            "18\t\t29\n",
            "19\t\t230\n",
            "20\t\t152\n",
            "21\t\t162\n",
            "22\t\t143\n",
            "23\t\t314\n",
            "24\t\t35\n"
          ]
        }
      ]
    },
    {
      "cell_type": "markdown",
      "source": [
        "# Ejemplo con funcion visualize"
      ],
      "metadata": {
        "id": "ZAFEdKqOXHZo"
      }
    },
    {
      "cell_type": "code",
      "source": [
        "n_bellman = random.randint(5,25)\n",
        "G_bellman, fuente_bellman = instance_generator_b(n_bellman)\n",
        "\n",
        "print(\"entrada:\",G_bellman)\n",
        "\n",
        "d=bellmanFord(G_bellman, fuente_bellman, n_bellman, verbose = False, visualize  = True)"
      ],
      "metadata": {
        "colab": {
          "base_uri": "https://localhost:8080/",
          "height": 528
        },
        "id": "4m6RVWHRXM9U",
        "outputId": "55f53d06-0b08-49a5-d55b-f88288f6f65b"
      },
      "execution_count": null,
      "outputs": [
        {
          "output_type": "stream",
          "name": "stdout",
          "text": [
            "entrada: [(5, 9, 92), (1, 0, 73), (1, 10, 14), (1, 8, 58), (6, 3, 20), (7, 11, 99), (7, 12, 63), (9, 0, 38), (9, 8, 20), (9, 2, 58), (11, 6, 24), (11, 1, 93), (10, 7, 90), (0, 11, 82), (2, 11, 85), (3, 9, 17), (3, 12, 66), (3, 10, 80), (8, 0, 81), (8, 11, 76), (8, 3, 54), (12, 10, 22), (12, 11, 15), (4, 10, 100), (4, 9, 88), (4, 11, 68), (8, 5, 89), (6, 4, 57)]\n",
            "Distancia de cada vértice desde la fuente:\n",
            "0\t\t130\n",
            "1\t\t281\n",
            "2\t\t150\n",
            "3\t\t166\n",
            "4\t\t269\n",
            "5\t\t0\n",
            "6\t\t212\n",
            "7\t\t336\n",
            "8\t\t112\n",
            "9\t\t92\n",
            "10\t\t246\n",
            "11\t\t188\n",
            "12\t\t232\n"
          ]
        },
        {
          "output_type": "display_data",
          "data": {
            "text/plain": [
              "<Figure size 432x288 with 1 Axes>"
            ],
            "image/png": "[encoded data removed]"
          },
          "metadata": {}
        }
      ]
    },
    {
      "cell_type": "markdown",
      "source": [],
      "metadata": {
        "id": "0XJa7xCmago7"
      }
    },
    {
      "cell_type": "code",
      "source": [
        "def minDistance(edges, dist, sptSet):\n",
        " \n",
        "        # Initialize minimum distance for next node\n",
        "        min = 1e7\n",
        " \n",
        "        # Search not nearest vertex not in the\n",
        "        # shortest path tree\n",
        "        for v in range(edges-1):\n",
        "            if dist[v] < min and sptSet[v] == False:\n",
        "                min = dist[v]\n",
        "                min_index = v\n",
        " \n",
        "        return min_index\n",
        " \n",
        "    # Function that implements Dijkstra's single source\n",
        "    # shortest path algorithm for a graph represented\n",
        "    # using adjacency matrix representation\n",
        "def dijkstra(V, src,edges):\n",
        " \n",
        "        dist = [1e7] * edges\n",
        "        dist[src] = 0\n",
        "        sptSet = [False] * edges\n",
        " \n",
        "        for cout in range(edges-1):\n",
        " \n",
        "            # Pick the minimum distance vertex from\n",
        "            # the set of vertices not yet processed.\n",
        "            # u is always equal to src in first iteration\n",
        "            u = minDistance(edges,dist, sptSet)\n",
        " \n",
        "            # Put the minimum distance vertex in the\n",
        "            # shortest path tree\n",
        "            sptSet[u] = True\n",
        " \n",
        "            # Update dist value of the adjacent vertices\n",
        "            # of the picked vertex only if the current\n",
        "            # distance is greater than new distance and\n",
        "            # the vertex in not in the shortest path tree\n",
        "            for v in range(edges-1):\n",
        "                if (V[u][v] > 0 and sptSet[v] == False and dist[v] > dist[u] + V[u][v]):\n",
        "                    dist[v] = dist[u] + V[u][v]\n",
        " \n",
        "        print(\"Distancia de cada vértice desde la fuente:\")\n",
        "        for i in range(len(dist)):\n",
        "          print(\"{0}\\t\\t{1}\".format(i, dist[i]))\n",
        "        return dist  "
      ],
      "metadata": {
        "id": "MHpRzRIZgRnR"
      },
      "execution_count": 35,
      "outputs": []
    },
    {
      "cell_type": "code",
      "source": [
        "n_d = random.randint(5,25)\n",
        "G_d, d = instance_generator_d(n_d)\n",
        "\n",
        "b=dijkstra(G_d,d,n_d)"
      ],
      "metadata": {
        "colab": {
          "base_uri": "https://localhost:8080/",
          "height": 321
        },
        "id": "XZpuB0PQhYni",
        "outputId": "00a60d78-cb9a-4afe-8529-4fe371a5b4cf"
      },
      "execution_count": 37,
      "outputs": [
        {
          "output_type": "error",
          "ename": "IndexError",
          "evalue": "ignored",
          "traceback": [
            "\u001b[0;31m---------------------------------------------------------------------------\u001b[0m",
            "\u001b[0;31mIndexError\u001b[0m                                Traceback (most recent call last)",
            "\u001b[0;32m<ipython-input-37-c9db3e3ee577>\u001b[0m in \u001b[0;36m<module>\u001b[0;34m\u001b[0m\n\u001b[1;32m      2\u001b[0m \u001b[0mG_d\u001b[0m\u001b[0;34m,\u001b[0m \u001b[0md\u001b[0m \u001b[0;34m=\u001b[0m \u001b[0minstance_generator_d\u001b[0m\u001b[0;34m(\u001b[0m\u001b[0mn_d\u001b[0m\u001b[0;34m)\u001b[0m\u001b[0;34m\u001b[0m\u001b[0;34m\u001b[0m\u001b[0m\n\u001b[1;32m      3\u001b[0m \u001b[0;34m\u001b[0m\u001b[0m\n\u001b[0;32m----> 4\u001b[0;31m \u001b[0mb\u001b[0m\u001b[0;34m=\u001b[0m\u001b[0mdijkstra\u001b[0m\u001b[0;34m(\u001b[0m\u001b[0mG_d\u001b[0m\u001b[0;34m,\u001b[0m\u001b[0md\u001b[0m\u001b[0;34m,\u001b[0m\u001b[0mn_d\u001b[0m\u001b[0;34m)\u001b[0m\u001b[0;34m\u001b[0m\u001b[0;34m\u001b[0m\u001b[0m\n\u001b[0m",
            "\u001b[0;32m<ipython-input-35-2ab8c1d636ec>\u001b[0m in \u001b[0;36mdijkstra\u001b[0;34m(V, src, edges)\u001b[0m\n\u001b[1;32m     38\u001b[0m             \u001b[0;31m# the vertex in not in the shortest path tree\u001b[0m\u001b[0;34m\u001b[0m\u001b[0;34m\u001b[0m\u001b[0;34m\u001b[0m\u001b[0m\n\u001b[1;32m     39\u001b[0m             \u001b[0;32mfor\u001b[0m \u001b[0mv\u001b[0m \u001b[0;32min\u001b[0m \u001b[0mrange\u001b[0m\u001b[0;34m(\u001b[0m\u001b[0medges\u001b[0m\u001b[0;34m-\u001b[0m\u001b[0;36m1\u001b[0m\u001b[0;34m)\u001b[0m\u001b[0;34m:\u001b[0m\u001b[0;34m\u001b[0m\u001b[0;34m\u001b[0m\u001b[0m\n\u001b[0;32m---> 40\u001b[0;31m                 \u001b[0;32mif\u001b[0m \u001b[0;34m(\u001b[0m\u001b[0mV\u001b[0m\u001b[0;34m[\u001b[0m\u001b[0mu\u001b[0m\u001b[0;34m]\u001b[0m\u001b[0;34m[\u001b[0m\u001b[0mv\u001b[0m\u001b[0;34m]\u001b[0m \u001b[0;34m>\u001b[0m \u001b[0;36m0\u001b[0m \u001b[0;32mand\u001b[0m \u001b[0msptSet\u001b[0m\u001b[0;34m[\u001b[0m\u001b[0mv\u001b[0m\u001b[0;34m]\u001b[0m \u001b[0;34m==\u001b[0m \u001b[0;32mFalse\u001b[0m \u001b[0;32mand\u001b[0m \u001b[0mdist\u001b[0m\u001b[0;34m[\u001b[0m\u001b[0mv\u001b[0m\u001b[0;34m]\u001b[0m \u001b[0;34m>\u001b[0m \u001b[0mdist\u001b[0m\u001b[0;34m[\u001b[0m\u001b[0mu\u001b[0m\u001b[0;34m]\u001b[0m \u001b[0;34m+\u001b[0m \u001b[0mV\u001b[0m\u001b[0;34m[\u001b[0m\u001b[0mu\u001b[0m\u001b[0;34m]\u001b[0m\u001b[0;34m[\u001b[0m\u001b[0mv\u001b[0m\u001b[0;34m]\u001b[0m\u001b[0;34m)\u001b[0m\u001b[0;34m:\u001b[0m\u001b[0;34m\u001b[0m\u001b[0;34m\u001b[0m\u001b[0m\n\u001b[0m\u001b[1;32m     41\u001b[0m                     \u001b[0mdist\u001b[0m\u001b[0;34m[\u001b[0m\u001b[0mv\u001b[0m\u001b[0;34m]\u001b[0m \u001b[0;34m=\u001b[0m \u001b[0mdist\u001b[0m\u001b[0;34m[\u001b[0m\u001b[0mu\u001b[0m\u001b[0;34m]\u001b[0m \u001b[0;34m+\u001b[0m \u001b[0mV\u001b[0m\u001b[0;34m[\u001b[0m\u001b[0mu\u001b[0m\u001b[0;34m]\u001b[0m\u001b[0;34m[\u001b[0m\u001b[0mv\u001b[0m\u001b[0;34m]\u001b[0m\u001b[0;34m\u001b[0m\u001b[0;34m\u001b[0m\u001b[0m\n\u001b[1;32m     42\u001b[0m \u001b[0;34m\u001b[0m\u001b[0m\n",
            "\u001b[0;31mIndexError\u001b[0m: tuple index out of range"
          ]
        }
      ]
    },
    {
      "cell_type": "markdown",
      "source": [
        "# Análisis de complejidad de Bellman Ford\n",
        "\n",
        "## Complejidad del tiempo\n",
        "  Dado que estamos recorriendo todos los bordes V-1 veces, y cada vez estamos recorriendo todos los vértices E , por lo tanto, la complejidad del tiempo es O(VE) .\n",
        "\n",
        "## Complejidad espacial\n",
        "  Como estamos usando un arreglo auxiliar dis de tamaño V , la complejidad del espacio es O(V) .\n",
        "\n",
        "  Donde V y E son números de vértices y aristas respectivamente."
      ],
      "metadata": {
        "id": "UiPS0dTGNdHZ"
      }
    },
    {
      "cell_type": "markdown",
      "source": [
        "\n",
        "# Complejidad del tiempo del algoritmo de Dijkstra\n",
        "La complejidad temporal del algoritmo de Dijkstra es\n",
        "O(V^2) donde V es el número de vértices en el gráfico."
      ],
      "metadata": {
        "id": "f8YahLC5YqXn"
      }
    },
    {
      "cell_type": "markdown",
      "source": [
        "# Correctitud\n",
        "\n",
        "Teorema:Después de la iteración i de Bellman-Ford, v.  d es como máximo el peso de cada camino de s a v usando como máximo i aristas, para todo v E V.\n",
        "\n",
        "Prueba:Por inducción en i .  \n",
        "- Antes de la iteración i , v .  d ≤ min { w ( p ) : ( p≤i - 1 } \n",
        "- la relajacion solo disminuye v . d's ⇒ sigue siendo cierto \n",
        "- La iteración i considera todos los caminos con ≤ i bordes al relajar los bordes entrantes de v."
      ],
      "metadata": {
        "id": "Oc8W8qi0PhSe"
      }
    }
  ]
}