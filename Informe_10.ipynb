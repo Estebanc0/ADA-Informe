{
  "nbformat": 4,
  "nbformat_minor": 0,
  "metadata": {
    "colab": {
      "provenance": [],
      "authorship_tag": "ABX9TyPQ0Jkjv63Rhd4dgIoRASxN",
      "include_colab_link": true
    },
    "kernelspec": {
      "name": "python3",
      "display_name": "Python 3"
    },
    "language_info": {
      "name": "python"
    }
  },
  "cells": [
    {
      "cell_type": "markdown",
      "metadata": {
        "id": "view-in-github",
        "colab_type": "text"
      },
      "source": [
        "<a href=\"https://colab.research.google.com/github/Estebanc0/ADA-Informes/blob/main/Informe_10.ipynb\" target=\"_parent\"><img src=\"https://colab.research.google.com/assets/colab-badge.svg\" alt=\"Open In Colab\"/></a>"
      ]
    },
    {
      "cell_type": "markdown",
      "source": [
        "# Descripcion del problema\n",
        "\n",
        "Entrada: 2 matrices de enteros que representan el valor y el peso de n objetos ademas de un entero que representa la capacidade de la mochila.\n",
        "\n",
        "Salida: el valor total maximo de la mochila."
      ],
      "metadata": {
        "id": "RVXSgnVeP9Js"
      }
    },
    {
      "cell_type": "markdown",
      "source": [
        "# Descripcion del algoritmo\n",
        "\n",
        "En una tabla DP[][], consideremos todos los pesos posibles desde '1' hasta 'W' como columnas y pesos que se pueden mantener como filas. \n",
        "El estado DP[i][j] denotará el valor máximo de 'j-weight' considerando todos los valores de '1 a i-ésimo'. Entonces, si consideramos 'wi' (peso en la 'ésima' fila), podemos completarlo en todas las columnas que tienen 'valores de peso> wi'. Ahora pueden tener lugar dos posibilidades: \n",
        "\n",
        "Complete 'wi' en la columna dada.\n",
        "No llene 'wi' en la columna dada.\n"
      ],
      "metadata": {
        "id": "qWoodGYzQ-9s"
      }
    },
    {
      "cell_type": "code",
      "execution_count": 3,
      "metadata": {
        "id": "Vwigvm4EP6KQ"
      },
      "outputs": [],
      "source": [
        "def knapSack(W, wt, val, n):\n",
        "    K = [[0 for x in range(W + 1)] for x in range(n + 1)]\n",
        "    # Build table K[][] in bottom up manner\n",
        "    aux=0\n",
        "    for i in range(n + 1):\n",
        "        for w in range(W + 1):\n",
        "            aux+=1\n",
        "            if i == 0 or w == 0:\n",
        "                K[i][w] = 0\n",
        "                \n",
        "            elif wt[i-1] <= w:\n",
        "                K[i][w] = max(val[i-1]\n",
        "                          + K[i-1][w-wt[i-1]], \n",
        "                              K[i-1][w])\n",
        "            else:\n",
        "                K[i][w] = K[i-1][w]\n",
        "               \n",
        "    return K[n][W],aux \n",
        " \n"
      ]
    },
    {
      "cell_type": "code",
      "source": [
        "# Driver code\n",
        "val = [10, 15, 40] \n",
        "wt = [1, 2, 3] \n",
        "W = 6\n",
        "n=len(val)\n",
        "m,c=knapSack(W, wt, val,n)\n",
        "\n",
        "print(\"valor final:\",m,\"\\numero de subproblemas:\",c)\n",
        " "
      ],
      "metadata": {
        "colab": {
          "base_uri": "https://localhost:8080/"
        },
        "id": "CvAFsQEjQxgn",
        "outputId": "6cb91806-435a-4d21-d4da-29e551a24de9"
      },
      "execution_count": 4,
      "outputs": [
        {
          "output_type": "stream",
          "name": "stdout",
          "text": [
            "valor final: 65 \n",
            "umero de subproblemas: 28\n"
          ]
        }
      ]
    },
    {
      "cell_type": "code",
      "source": [
        "def bubblesortByRatio(list1, list2):\n",
        "  n = len(list1)\n",
        "  order = list(range(n))\n",
        "  for i in range(n - 1, 0, -1):     # i ranges from n-1 down to 1\n",
        "    for j in range(0, i):           # j ranges from 0 up to i-1\n",
        "      # if ratio of jth numbers > ratio of (j+1)st numbers then\n",
        "      if ((1.0 * list1[order[j]]) / list2[order[j]]) < ((1.0 * list1[order[j+1]]) / list2[order[j+1]]):\n",
        "        temp = order[j]              # exchange \"pointers\" to these items\n",
        "        order[j] = order[j+1]\n",
        "        order[j+1] = temp\n",
        "  return order"
      ],
      "metadata": {
        "id": "KfnRnNuQE3uz"
      },
      "execution_count": 5,
      "outputs": []
    },
    {
      "cell_type": "code",
      "source": [
        "def KnapsackFrac(v, w, W):\n",
        "  order = bubblesortByRatio(v, w)            # sort by v/w (see bubblesort below)\n",
        "  weight = 0.0                               # current weight of the solution\n",
        "  value = 0.0                                # current value of the solution\n",
        "  knapsack = []                              # items in the knapsack - a list of (item, faction) pairs\n",
        "  n = len(v)\n",
        "  index = 0                                  # order[index] is the index in v and w of the item we're considering\n",
        "  while (weight < W) and (index < n):\n",
        "    if weight + w[order[index]] <= W:        # if we can fit the entire order[index]-th item\n",
        "      knapsack.append((order[index], 1.0))   # add it and update weight and value\n",
        "      weight = weight + w[order[index]]\n",
        "      value = value + v[order[index]]\n",
        "    else:\n",
        "      fraction = (W - weight) / w[order[index]]  # otherwise, calculate the fraction we can fit\n",
        "      knapsack.append((order[index], fraction))  # and add this fraction\n",
        "      weight = W\n",
        "      value = value + v[order[index]] * fraction\n",
        "    index = index + 1\n",
        "  return (value)"
      ],
      "metadata": {
        "id": "wQHYOoijE2xS"
      },
      "execution_count": 6,
      "outputs": []
    },
    {
      "cell_type": "code",
      "source": [
        "v=[60, 100, 120]\n",
        "w=[10,20,30]\n",
        "W=50\n",
        "KnapsackFrac(v, w, W)"
      ],
      "metadata": {
        "colab": {
          "base_uri": "https://localhost:8080/"
        },
        "id": "XrfqGHmlFJUf",
        "outputId": "cb015faf-1b40-4594-934c-f10bc5ef8d5a"
      },
      "execution_count": 7,
      "outputs": [
        {
          "output_type": "execute_result",
          "data": {
            "text/plain": [
              "240.0"
            ]
          },
          "metadata": {},
          "execution_count": 7
        }
      ]
    },
    {
      "cell_type": "markdown",
      "source": [
        "# Complejidad temporal\n",
        "\n",
        "Programacion dinamica:\n",
        "Posee un tiempo de ejecucion de O(N*W) donde 'N' es el número de elementos de peso y 'W' es la capacidad.\n",
        "\n",
        "\n",
        "Greedy:\n",
        "si los elementos ya están dispuestos en el orden requerido, el ciclo while toma O (n) tiempo, si no estan ordenados el tiempo depende del algoritmo de ordenamiento a utilizar, por ejemplo si se implementa con quicksort pasaria a tener O(nlogn)."
      ],
      "metadata": {
        "id": "dwTEO-d5UIR6"
      }
    },
    {
      "cell_type": "markdown",
      "source": [
        "# CORRECTITUD\n",
        "Vamos a hacer la prueba por inducción aquí:\n",
        "Decimos par (i, j) < (i', j') si i < i' o (i = i' y j < j').\n",
        "el algoritmo es correcto para todos los valores de a[i, j] donde (i, j) < (i', j').\n",
        "\n",
        "Caso base: a[i, 0] = a[0, j] = 0 para todo i, j\n",
        "\n",
        "Al calcular a[i'\n",
        ", j'], por hipótesis de inducción, tenemos a[i' − 1, j'],\n",
        "a[i' − 1, j' − wi'] ya están calculados correctamente. Entonces el algoritmo considera el valor óptimo para\n",
        "el objeto i'\n",
        "en la mochila como a[i' −1, j' −wi']+vi' y para el artículo i'no en la mochila como a[i' −1, j']. Por lo tanto, el valor para a[i',j'] es correcto."
      ],
      "metadata": {
        "id": "9fJ7sAmzXiVG"
      }
    },
    {
      "cell_type": "code",
      "source": [
        "import matplotlib.pyplot as plt\n",
        "import datetime\n",
        "import random\n",
        "from timeit import repeat\n",
        "\n",
        "x=[]; x2=[]\n",
        "y=[]; y2=[]\n",
        "\n",
        "for n in range(5,100):\n",
        "\n",
        "  v = random.sample(range(1, 200), n)\n",
        "  wt= random.sample(range(1, 200), n)\n",
        "  w = random.randint(1,600)\n",
        "  t = repeat(setup=\"from __main__ import knapSack\", stmt=f\"knapSack({w},{wt},{v},{n})\", repeat=1, number=10)\n",
        "\n",
        "  x.append(n)\n",
        "  y.append(t)\n",
        "  t = repeat(setup=\"from __main__ import KnapsackFrac\", stmt=f\"KnapsackFrac({v},{wt},{w})\", repeat=1, number=10)\n",
        "  \n",
        "  x2.append(n)\n",
        "  y2.append(t)\n",
        "\n",
        "plt.plot(x,y)\n",
        "plt.plot(x2,y2)\n",
        "plt.legend([\"Dinamico\",\"Greedy\"])\n",
        "\n",
        "plt.xlabel('n')\n",
        "plt.ylabel('Tiempo en ms')\n",
        "plt.show()"
      ],
      "metadata": {
        "colab": {
          "base_uri": "https://localhost:8080/",
          "height": 279
        },
        "id": "lFKXidTFWgLy",
        "outputId": "88a4ff24-ed93-4e10-ffce-91cfddcaa742"
      },
      "execution_count": 8,
      "outputs": [
        {
          "output_type": "display_data",
          "data": {
            "text/plain": [
              "<Figure size 432x288 with 1 Axes>"
            ],
            "image/png": "[encoded data removed]"
          },
          "metadata": {
            "needs_background": "light"
          }
        }
      ]
    },
    {
      "cell_type": "markdown",
      "source": [
        "# ANALISIS DE RESULTADOS\n",
        "\n",
        "Segun los resultados del analisis experimental de tiempo la solucion con el metodo greedy posee un menor tiempo de ejecucion que la solucion dinamica la cual posee demasiados picos y desniveles a medida que aumenta el tamaño de los arreglos"
      ],
      "metadata": {
        "id": "7AIcmJSlWOjf"
      }
    }
  ]
}