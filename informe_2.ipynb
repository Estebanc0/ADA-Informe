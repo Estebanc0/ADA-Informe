{
  "nbformat": 4,
  "nbformat_minor": 0,
  "metadata": {
    "colab": {
      "name": "informe 2.ipynb",
      "provenance": [],
      "collapsed_sections": [],
      "authorship_tag": "ABX9TyM+zLLEDrl6Zobc9P2VlXOY",
      "include_colab_link": true
    },
    "kernelspec": {
      "name": "python3",
      "display_name": "Python 3"
    },
    "language_info": {
      "name": "python"
    }
  },
  "cells": [
    {
      "cell_type": "markdown",
      "metadata": {
        "id": "view-in-github",
        "colab_type": "text"
      },
      "source": [
        "<a href=\"https://colab.research.google.com/github/Estebanc0/ADA-Informes/blob/main/informe_2.ipynb\" target=\"_parent\"><img src=\"https://colab.research.google.com/assets/colab-badge.svg\" alt=\"Open In Colab\"/></a>"
      ]
    },
    {
      "cell_type": "markdown",
      "source": [
        "# 1. Descripción del problema:\n",
        "\n",
        "\n",
        "Problema: Ordenar una secuencia de números \n",
        "\n",
        "\n",
        "\n",
        "Entrada: Secuencia de n números siendo n el tamaño del arreglo desordenado\n",
        "\n",
        "\n",
        "\n",
        "Salida: Misma secuencia de n números ordenada de menor a mayor\n",
        "\n"
      ],
      "metadata": {
        "id": "no_5F-2KdTLJ"
      }
    },
    {
      "cell_type": "markdown",
      "source": [
        "# 2. Descripción del algoritmo:\n",
        "\n",
        "\n",
        "Se crea merge_sort que recibe una lista de n números y devuelve la lista ordenada de menor a mayor, dentro se divide en sub arreglos y al momento de retornar los ingresa a la función merge donde se intercalan los valores de los sub arreglos en una lista de resultados y así ordenarlos:\n",
        "\n",
        "\n",
        "\n",
        "\n",
        "\n",
        "1.  Se crean variables de incremento y una lista para guardar los resultados\n",
        "\n",
        "2.  En el ciclo while se comprueba la condición de que las variables de incremento sean menor que el tamaño de las listas\n",
        "\n",
        "\n",
        "\n",
        "3.  Se comprueba la condición de if de que el valor i de la lista 1 sea menor que el valor j de la lista 2, si se cumple se agrega el valor de lista1[i] a la lista que guarda los resultados y se incrementa el valor de i en 1, en caso de no cumplirse se agrega el valor de lista2[j] a la lista que guarda los resultados y se incrementa el valor de j en 1 (esto se repite sucesivamente hasta que los valores de i y j sean iguales al tamaño de las listas)\n",
        "\n",
        "4.  Se agregan los resultados a la lista\n",
        "\n",
        "5.  Se retorna la lista con los resultados\n",
        "\n",
        "\n"
      ],
      "metadata": {
        "id": "RX_U7LW2deqL"
      }
    },
    {
      "cell_type": "markdown",
      "source": [
        "# 3. Implementación del código"
      ],
      "metadata": {
        "id": "pr0UcaWrLl42"
      }
    },
    {
      "cell_type": "code",
      "execution_count": null,
      "metadata": {
        "id": "NJhDvLN4lSWY"
      },
      "outputs": [],
      "source": [
        "def merge_sort(lista,verbose=False):\n",
        "  global aux\n",
        "  global n\n",
        "\n",
        "  if len(lista) < 2:\n",
        "    return lista\n",
        "    \n",
        "    # De lo contrario, se divide en 2\n",
        "  else:\n",
        "    if verbose == True : \n",
        "      print(\"Pasada N\",n,\":\",lista)\n",
        "      n+=1\n",
        "    if verbose==True:\n",
        "      aux+=1\n",
        "      middle = len(lista) // 2\n",
        "      right = merge_sort(lista[:middle],verbose=True)\n",
        "      left = merge_sort(lista[middle:],verbose=True)\n",
        "      if verbose==True:\n",
        "        print(\"Sub arreglo ordenado:\",merge(right,left))\n",
        "        print(\"\\n\")\n",
        "      return merge(right,left)\n",
        "    else:\n",
        "      aux+=1\n",
        "      middle = len(lista) // 2\n",
        "      right = merge_sort(lista[:middle])\n",
        "      left = merge_sort(lista[middle:])\n",
        "      return merge(right,left)\n",
        "    \n",
        "    \n",
        "\n"
      ]
    },
    {
      "cell_type": "code",
      "source": [
        "def merge(lista1, lista2):\n",
        "  global cont\n",
        "  i, j = 0, 0 # Variables de incremento\n",
        "  result = [] # Lista de resultadoç\n",
        "\n",
        "  while(i < len(lista1) and j < len(lista2)):\n",
        "    cont+=1\n",
        "    if (lista1[i] < lista2[j]):\n",
        "      result.append(lista1[i])\n",
        "      i += 1\n",
        "    else:\n",
        "      result.append(lista2[j])\n",
        "      j += 1\n",
        "\n",
        "  result += lista1[i:]\n",
        "  result += lista2[j:]\n",
        "\n",
        "  \n",
        "  \n",
        "  return result\n"
      ],
      "metadata": {
        "id": "0u1ooU4osvC9"
      },
      "execution_count": null,
      "outputs": []
    },
    {
      "cell_type": "code",
      "source": [
        "from termcolor import colored\n",
        "import numpy as np\n",
        "cont=0\n",
        "aux=0\n",
        "n=1\n",
        "lista = [5,8,2,6,9,43,2]\n",
        "lista_ordenada= merge_sort(lista)  \n",
        "print(\"Entrada:\",lista)\n",
        "print(\"Salida:\",lista_ordenada)\n",
        "print(\"Numero de comparaciones que realiza la funcion merge: \",cont)\n",
        "print(\"Numero de llamadas recursivas que realiza la funcion merge_sort: \",aux)"
      ],
      "metadata": {
        "colab": {
          "base_uri": "https://localhost:8080/"
        },
        "id": "0q4cdHI3L8qy",
        "outputId": "107bd2b9-125d-4dfc-a1c7-149d9519f2a7"
      },
      "execution_count": null,
      "outputs": [
        {
          "output_type": "stream",
          "name": "stdout",
          "text": [
            "Entrada: [5, 8, 2, 6, 9, 43, 2]\n",
            "Salida: [2, 2, 5, 6, 8, 9, 43]\n",
            "Numero de comparaciones que realiza la funcion merge:  13\n",
            "Numero de llamadas recursivas que realiza la funcion merge_sort:  6\n"
          ]
        }
      ]
    },
    {
      "cell_type": "markdown",
      "source": [
        "# 3-2. Ejemplo: \n",
        " \n",
        "\n",
        "A continuación se muestra un ejemplo con la siguiente secuencia de números [5,7,2,8,6]\n",
        "\n",
        "\n",
        "\n",
        "\n",
        "\n",
        "* Primero se divide la lista original en dos mitades lista1[5,7] y lista2[2,8,6]\n",
        "\n",
        "* Se vuelve a ingresar a MergeSort hasta que los sub arreglos queden de un elemento\n",
        "\n",
        "* Luego las llamadas a MergeSort combinan las secuencias y merge las ordena y las va colocando ordenados en un arreglo que guarda los resultados.\n",
        "\n",
        "* Finalmente se retorna un arreglo con los elementos ordenados de mayor a menor en este caso [2,5,6,7,8]\n",
        "\n",
        "\n"
      ],
      "metadata": {
        "id": "2dJ3evDFP3ja"
      }
    },
    {
      "cell_type": "markdown",
      "source": [
        "# 3-3. Ejecución del algoritmo paso a paso"
      ],
      "metadata": {
        "id": "jT6YgmlVNGYF"
      }
    },
    {
      "cell_type": "code",
      "source": [
        "from termcolor import colored\n",
        "import numpy as np\n",
        "cont=0\n",
        "aux=0\n",
        "n=1\n",
        "lista = [5,7,2,8,6]\n",
        "lista_ordenada= merge_sort(lista,verbose=True)  \n",
        "print(\"Entrada:\",lista)\n",
        "print(\"Salida:\",lista_ordenada)\n",
        "print(\"Numero de comparaciones que realiza la funcion merge: \",cont)\n",
        "print(\"Numero de llamadas recursivas que realiza la funcion merge_sort: \",aux)"
      ],
      "metadata": {
        "colab": {
          "base_uri": "https://localhost:8080/"
        },
        "id": "lxQ5uTRcoQTL",
        "outputId": "31ddc910-57b9-490d-cfdc-616ba439b3bb"
      },
      "execution_count": null,
      "outputs": [
        {
          "output_type": "stream",
          "name": "stdout",
          "text": [
            "Pasada N 1 : [5, 7, 2, 8, 6]\n",
            "Pasada N 2 : [5, 7]\n",
            "Sub arreglo ordenado: [5, 7]\n",
            "\n",
            "\n",
            "Pasada N 3 : [2, 8, 6]\n",
            "Pasada N 4 : [8, 6]\n",
            "Sub arreglo ordenado: [6, 8]\n",
            "\n",
            "\n",
            "Sub arreglo ordenado: [2, 6, 8]\n",
            "\n",
            "\n",
            "Sub arreglo ordenado: [2, 5, 6, 7, 8]\n",
            "\n",
            "\n",
            "Entrada: [5, 7, 2, 8, 6]\n",
            "Salida: [2, 5, 6, 7, 8]\n",
            "Numero de comparaciones que realiza la funcion merge:  14\n",
            "Numero de llamadas recursivas que realiza la funcion merge_sort:  4\n"
          ]
        }
      ]
    },
    {
      "cell_type": "markdown",
      "source": [
        "# 4. Propiedades del algoritmo"
      ],
      "metadata": {
        "id": "ZGt1bLX4ST7b"
      }
    },
    {
      "cell_type": "markdown",
      "source": [
        "# 4-1. Tiempo de ejecución\n",
        "\n",
        "\n",
        "Merge sort posee un tiempo de ejecución de O(n log n) tanto en su peor caso como en su mejor caso. A continuación se muestra un análisis de este con un árbol de recursión![eryk.png](data:image/png;base64,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)\n",
        "Cada uno de los subproblemas de tamaño n/2,ordena recursivamente los dos sub arreglos de tamaño (n/2)/2, o n/4. Al haber dos subproblemas de tamaño n/2 resultará en cuatro subproblemas de tamaño n/4. Cada uno de estos mezcla en total n/4 elementos por lo que el tiempo de mezcla de cada uno es cn/4. Al sumarlos todos podemos ver que el tiempo total para la mezcla de los subproblemas de tamaño n/4 es de 4*cn/4=cn, y así a medida que aumenta la cantidad de subproblemas el tiempo de mezcla se divide a la mitad hasta llegar a los sub arreglos de tamaño 1 los cuales tardan un tiempo de O(1) cada uno y en conjunto tienen un tiempo de cn"
      ],
      "metadata": {
        "id": "7e3qmzWmSc9D"
      }
    },
    {
      "cell_type": "markdown",
      "source": [
        "# 4-2. Correctitud merge sort\n",
        "\n",
        "\n",
        "Teorema:\n",
        "\n",
        "Entra un arreglo [a1,a2,a3.....an] y se espera que el algoritmo lo retorne ordenado de menor a mayor.\n",
        "\n",
        "\n",
        "\n",
        "Prueba del teorema:\n",
        "\n",
        "\n",
        "\n",
        "(propiedad de bucle invariante)\n",
        "\n",
        "\n",
        "\n",
        "Merge sort divide el arreglo, pero no modifica los elementos que contiene así que a medida que avanzan las iteraciones el arreglo resultante contendrá los mismos elementos que el arreglo original pero ordenados de menor a mayor.\n",
        "\n",
        "\n",
        "\n",
        "Inicialización:\n"
      ],
      "metadata": {
        "id": "NVMhP2H7bUSt"
      }
    },
    {
      "cell_type": "markdown",
      "source": [
        "# 5. Experimentos y análisis:"
      ],
      "metadata": {
        "id": "FEbwoggapcyB"
      }
    },
    {
      "cell_type": "code",
      "source": [
        "import matplotlib.pyplot as plt\n",
        "import math\n",
        "import random\n",
        "aux=0\n",
        "x=[n for n in range(5,20)] \n",
        "y1=[n*math.log(2,n) for n in range(5,20)] #peor caso \n",
        "y2=[n*math.log(2,n) for n in range(5,20)] #mejor caso\n",
        "y=[]; \n",
        "\n",
        "for n in range(5,20):\n",
        "  a = random.sample(range(1, 100), n)\n",
        "  a= merge_sort(a)\n",
        "  y.append(aux)\n",
        "\n",
        "plt.plot(x,y)\n",
        "plt.plot(x,y1)\n",
        "plt.plot(x,y2)\n",
        "plt.legend([\"Merge Sort\", \"Peor caso\", \"Mejor caso\"])\n",
        "\n",
        "plt.xlabel('Tamaño del arreglo')\n",
        "plt.ylabel('numero de operaciones')\n",
        "plt.show()"
      ],
      "metadata": {
        "colab": {
          "base_uri": "https://localhost:8080/",
          "height": 279
        },
        "id": "2lpfloxBCN5-",
        "outputId": "1b5fbe26-68a5-4c65-abe0-c747f0423367"
      },
      "execution_count": null,
      "outputs": [
        {
          "output_type": "display_data",
          "data": {
            "text/plain": [
              "<Figure size 432x288 with 1 Axes>"
            ],
            "image/png": "[encoded data removed]"
          },
          "metadata": {
            "needs_background": "light"
          }
        }
      ]
    },
    {
      "cell_type": "markdown",
      "source": [
        "# Interpretación de los resultados:\n",
        "\n",
        "\n",
        "Por los resultados obtenidos podemos concluir que tanto el peor como el caso promedio tienen un mismo tiempo de ejecución, ya que MergeSort siempre tiene una complejidad de O(n log n) excepto por su mejor caso posible donde es O(1), ya que a pesar de aumentar el tamaño del arreglo este se mantiene constante"
      ],
      "metadata": {
        "id": "Qbk4O9dSqaiA"
      }
    },
    {
      "cell_type": "markdown",
      "source": [
        "# Comparación de los tiempos de ejecución de Merge sort e insertion sort:\n"
      ],
      "metadata": {
        "id": "VoCCyeE8rp5z"
      }
    },
    {
      "cell_type": "code",
      "source": [
        "def insertion_sort(array, verbose=False):\n",
        "  #se inician las variables\n",
        "  t=0#se encarga de contar el numero de iteracones realizadas\n",
        "  y=0\n",
        "  n=len(array)\n",
        "  if verbose == True: print(\"input array:\",array)\n",
        "  #for encargado de recorrer el arreglo\n",
        "  for i in range(1,len(array)):\n",
        "    if verbose == True: print(\"\\nPasada\",i)\n",
        "    already_sorted = True\n",
        "    aux=array[i]\n",
        "    k=i-1\n",
        "    #ciclo en el que se realizan los cambios de posicion \n",
        "    while k>=0 and aux<array[k]:\n",
        "      t=t+1\n",
        "      array[k+1]=array[k]\n",
        "      if already_sorted== True and verbose==True: \n",
        "        print(str(array[:k])[1:-1],\",\",colored(f\"{str(array[k:k+2])[1:-1]}\",\"red\"),\",\",str(array[k+2:])[1:-1])\n",
        "      k-=1\n",
        "      already_sorted = False\n",
        "    array[k+1]=aux\n",
        "  \n",
        "    if t==y and verbose==True:\n",
        "      print(array)\n",
        "    y=t\n",
        "    if verbose == True: \n",
        "      print(\"\\nAl finalizar pasada:\")\n",
        "      print(str(array[:n-i])[1:-1],\",\",colored(f\"{str(array[n-i:])[1:-1]}\",\"blue\"))\n",
        "  \n",
        "  if already_sorted:\n",
        "    if verbose == True: print(\"is sorted!\")\n",
        "      \n",
        "    \n",
        "  if verbose == True: print(\"\\noutput array:\",array)\n",
        "\n",
        "  return array, t"
      ],
      "metadata": {
        "id": "JODJrSGOCNzt"
      },
      "execution_count": null,
      "outputs": []
    },
    {
      "cell_type": "code",
      "source": [
        "import matplotlib.pyplot as plt\n",
        "import datetime\n",
        "from timeit import repeat\n",
        "\n",
        "x=[]; y=[]; z=[]\n",
        "\n",
        "for n in range(5,500):\n",
        "\n",
        "  a = random.sample(range(1, 1000), n)\n",
        "\n",
        " \n",
        "  t = repeat(setup=\"from __main__ import merge_sort\", stmt=f\"merge_sort({a})\", repeat=1, number=10)\n",
        "  h = repeat(setup=\"from __main__ import insertion_sort\", stmt=f\"insertion_sort({a})\", repeat=1, number=10)\n",
        "\n",
        "  x.append(n)\n",
        "  y.append(t)\n",
        "  z.append(h)\n",
        "\n",
        "plt.plot(x,y,z)\n",
        "plt.legend([\"MergeSort\",\"InsertionSort\"])\n",
        "plt.xlabel('Tamaño del arreglo')\n",
        "plt.ylabel('time in ms')\n",
        "plt.show()"
      ],
      "metadata": {
        "colab": {
          "base_uri": "https://localhost:8080/",
          "height": 279
        },
        "id": "QsdxrUt4r3xU",
        "outputId": "f73a8175-87ce-4946-d838-3421e77c293e"
      },
      "execution_count": null,
      "outputs": [
        {
          "output_type": "display_data",
          "data": {
            "text/plain": [
              "<Figure size 432x288 with 1 Axes>"
            ],
            "image/png": "[encoded data removed]"
          },
          "metadata": {
            "needs_background": "light"
          }
        }
      ]
    },
    {
      "cell_type": "markdown",
      "source": [
        "# Interpretación de los resultados: \n",
        "\n",
        "\n",
        "Por los resultados demostrados en el gráfico se puede concluir que MergeSort posee una superior eficiencia en tiempo de ejecución a comparación de InsertionSort al trabajar con arreglos de gran tamaño"
      ],
      "metadata": {
        "id": "Oi-dmH3-sYzN"
      }
    }
  ]
}