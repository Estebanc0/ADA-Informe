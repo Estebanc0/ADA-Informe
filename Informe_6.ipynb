{
  "nbformat": 4,
  "nbformat_minor": 0,
  "metadata": {
    "colab": {
      "provenance": [],
      "authorship_tag": "ABX9TyOvPcDvuI3LCdqj+HcmUPug",
      "include_colab_link": true
    },
    "kernelspec": {
      "name": "python3",
      "display_name": "Python 3"
    },
    "language_info": {
      "name": "python"
    }
  },
  "cells": [
    {
      "cell_type": "markdown",
      "metadata": {
        "id": "view-in-github",
        "colab_type": "text"
      },
      "source": [
        "<a href=\"https://colab.research.google.com/github/Estebanc0/ADA-Informes/blob/main/Informe_6.ipynb\" target=\"_parent\"><img src=\"https://colab.research.google.com/assets/colab-badge.svg\" alt=\"Open In Colab\"/></a>"
      ]
    },
    {
      "cell_type": "markdown",
      "source": [
        "# Descripcion del problema:\n",
        "\n",
        "Entrada: un arreglo de tamaño n cos sus datos en cualquier posicion y un indice k.\n",
        "\n",
        "Salida:el k-ésimo elemento más pequeño del arreglo"
      ],
      "metadata": {
        "id": "KFUipvuj_M4o"
      }
    },
    {
      "cell_type": "markdown",
      "source": [
        "# Descripcion del algoritmo:\n",
        "\n",
        "\n",
        "\n",
        "1.   Divide los n elementos de la entrada en grupos de hasta 5 elementos cada grupo \n",
        "2.   Calcula la mediana de cada grupo con InsertionSor\n",
        "\n",
        "1.   Calcula la mediana de las medianas de forma recursiva\n",
        "2.   Utiliza la mediana de las medianas como pivote para particionar los elementos de la entrada, garantizando una particion balanceada\n",
        "3.   Si la posicion del pivote coincide con el k-esimo elemento se retorna,si es mayor se llama recursivamente para recorrer las posiciones menores del arreglo, en caso de que sea mayor se llama recursivamente para recorrer las posiciones menores \n",
        "\n",
        "\n",
        "\n"
      ],
      "metadata": {
        "id": "GdFtN-VF_Mi8"
      }
    },
    {
      "cell_type": "code",
      "source": [
        "def insertionSort(arr):\n",
        " \n",
        "    for i in range(1, len(arr)):\n",
        "        key = arr[i]\n",
        "        j = i-1\n",
        "        while j >=0 and key < arr[j] :\n",
        "                arr[j+1] = arr[j]\n",
        "                j -= 1\n",
        "        arr[j+1] = key\n",
        "    return arr"
      ],
      "metadata": {
        "id": "H6sITFanMzIo"
      },
      "execution_count": null,
      "outputs": []
    },
    {
      "cell_type": "code",
      "source": [
        "def partition(A, p, r):\n",
        "    pivot = A[r]\n",
        "    \n",
        "    i = p-1\n",
        "    j = p\n",
        "    c = 0\n",
        "\n",
        "    for j in range(j,r):\n",
        "        c += 1    \n",
        "        if A[j] <= pivot:\n",
        "            i += 1\n",
        "            aux = A[i]\n",
        "            A[i] = A[j]\n",
        "            A[j] = aux\n",
        "\n",
        "    aux = A[i+1]\n",
        "    A[i+1] = A[r]\n",
        "    A[r] = aux\n",
        "    return i+1, c"
      ],
      "metadata": {
        "id": "pfM45KqLL6sP"
      },
      "execution_count": null,
      "outputs": []
    },
    {
      "cell_type": "code",
      "source": [
        "def pivot_selection(A, p, r, verbose = False):\n",
        "    if p == r : \n",
        "        if verbose == True:\n",
        "            print(f\"\\n    Mediana encontrada! {A[p]}!!\\n\")\n",
        "        return A[p]                    \n",
        "\n",
        "    m = []                                    \n",
        "\n",
        "    if verbose == True:\n",
        "        print(f\"\\n        A = [\", end=\"\")\n",
        "\n",
        "    for i in range(p,r+1, 5):\n",
        "        if i+4 <= r:\n",
        "            if verbose == True:\n",
        "                print(f\"{A[i:i+5]}\", end=\"\")\n",
        "            A[i:i+5] = insertionSort(A[i:i+5])  \n",
        "            m.append(A[i+2])                    \n",
        "        else:\n",
        "            if verbose == True:\n",
        "                print(f\"{A[i:r+1]}\", end=\"\")\n",
        "            A[i:r+1] = insertionSort(A[i:r+1])\n",
        "            a = i + (r-i)//2\n",
        "            m.append(A[a])\n",
        "            \n",
        "    if verbose == True: \n",
        "        print(\"]\")\n",
        "        print(f\"        Lista de medianas: {m}\")\n",
        "    return pivot_selection(m, 0, len(m)-1, verbose = verbose)\n"
      ],
      "metadata": {
        "id": "1FoP5givRHMN"
      },
      "execution_count": null,
      "outputs": []
    },
    {
      "cell_type": "code",
      "source": [
        "def Select(A, p, r, i, verbose = False, c = 0, pasada = 1):\n",
        "    if verbose == True and c == 0:\n",
        "        print(f\"Arreglo de entrada: {A[p:r+1]}\")\n",
        "        \n",
        "    \n",
        "\n",
        "    if p == r:                 \n",
        "        return A[p], c           \n",
        "    \n",
        "    if verbose == True:\n",
        "        print(f\"Pasada numero {pasada}\\n\")\n",
        "        print(f\"Seleccion del pivote:\")\n",
        "\n",
        "    q = pivot_selection(A, p, r, verbose = verbose)\n",
        "\n",
        "    for u in range(p, r+1):      \n",
        "        if A[u] == q: q = u\n",
        "    aux = A[q]\n",
        "    A[q] = A[r]\n",
        "    A[r] = aux            \n",
        "\n",
        "    q, d = partition(A,p,r)     \n",
        "    comp = c + d\n",
        "\n",
        "    if verbose == True:\n",
        "        print(f\"Arreglo post-particion: {A[p:r+1]}\\n\")\n",
        "        print(f\"Pivote se encuentra en la posicion {q}\\n\")\n",
        "        print(f\"Comparaciones en esta pasada : {d}\")\n",
        "        print(f\"Suma de comparaciones : {comp}\\n\")\n",
        "        \n",
        "\n",
        "\n",
        "    k = q - p + 1\n",
        "\n",
        "    if i == k:                         # Pivote corresponde al elemento de orden i\n",
        "      \n",
        "        return A[q], comp\n",
        "\n",
        "    elif i < k:                        \n",
        "        return Select(A, p, q - 1, i, c = comp, verbose = verbose, pasada = pasada + 1)\n",
        "\n",
        "    else:                               \n",
        "        return Select(A, q+1, r, i-k, c = comp, verbose = verbose, pasada = pasada + 1)"
      ],
      "metadata": {
        "id": "eB6qg1n9Z6II"
      },
      "execution_count": null,
      "outputs": []
    },
    {
      "cell_type": "code",
      "source": [
        "arr = [ 10, 4, 5, 8, 6, 11, 26,54,23,98,1 ]\n",
        "n = len(arr)\n",
        "k = 8\n",
        "a,b=Select(arr, 0, n - 1, k)\n",
        "print(\"El k-enesimo elemento mas pequeño es\",a)\n",
        "print(f\"La cantidad de comparaciones en total es de {b}\")"
      ],
      "metadata": {
        "colab": {
          "base_uri": "https://localhost:8080/"
        },
        "id": "YBJZ27rxVQSC",
        "outputId": "c4d005ee-e8d4-4fab-894a-7c689517d607"
      },
      "execution_count": null,
      "outputs": [
        {
          "output_type": "stream",
          "name": "stdout",
          "text": [
            "El k-enesimo elemento mas pequeño es 23\n",
            "La cantidad de comparaciones en total es de 26\n"
          ]
        }
      ]
    },
    {
      "cell_type": "markdown",
      "source": [
        "# Funcion verbose"
      ],
      "metadata": {
        "id": "IXnWA3pZVTIR"
      }
    },
    {
      "cell_type": "code",
      "source": [
        "arr = [ 10, 4, 5, 8, 6, 11, 26,54,23,98,1 ]\n",
        "n = len(arr)\n",
        "k = 8\n",
        "a,b=Select(arr, 0, n - 1, k,verbose=True)\n",
        "print(\"El k-enesimo elemento mas pequeño es\",a)\n",
        "print(f\"La cantidad de comparaciones en total es de {b}\")"
      ],
      "metadata": {
        "colab": {
          "base_uri": "https://localhost:8080/"
        },
        "id": "fFzs4xVHOOfw",
        "outputId": "4d619743-8b82-48a6-f4ad-acbbd344f7fa"
      },
      "execution_count": null,
      "outputs": [
        {
          "output_type": "stream",
          "name": "stdout",
          "text": [
            "Arreglo de entrada: [10, 4, 5, 8, 6, 11, 26, 54, 23, 98, 1]\n",
            "Pasada numero 1\n",
            "\n",
            "Seleccion del pivote:\n",
            "\n",
            "        A = [[10, 4, 5, 8, 6][11, 26, 54, 23, 98][1]]\n",
            "        Lista de medianas: [6, 26, 1]\n",
            "\n",
            "        A = [[6, 26, 1]]\n",
            "        Lista de medianas: [6]\n",
            "\n",
            "    Mediana encontrada! 6!!\n",
            "\n",
            "Arreglo post-particion: [4, 5, 1, 6, 10, 11, 23, 26, 54, 98, 8]\n",
            "\n",
            "Pivote se encuentra en la posicion 3\n",
            "\n",
            "Comparaciones en esta pasada : 10\n",
            "Suma de comparaciones : 10\n",
            "\n",
            "Pasada numero 2\n",
            "\n",
            "Seleccion del pivote:\n",
            "\n",
            "        A = [[10, 11, 23, 26, 54][98, 8]]\n",
            "        Lista de medianas: [23, 8]\n",
            "\n",
            "        A = [[23, 8]]\n",
            "        Lista de medianas: [8]\n",
            "\n",
            "    Mediana encontrada! 8!!\n",
            "\n",
            "Arreglo post-particion: [8, 11, 23, 26, 54, 98, 10]\n",
            "\n",
            "Pivote se encuentra en la posicion 4\n",
            "\n",
            "Comparaciones en esta pasada : 6\n",
            "Suma de comparaciones : 16\n",
            "\n",
            "Pasada numero 3\n",
            "\n",
            "Seleccion del pivote:\n",
            "\n",
            "        A = [[11, 23, 26, 54, 98][10]]\n",
            "        Lista de medianas: [26, 10]\n",
            "\n",
            "        A = [[26, 10]]\n",
            "        Lista de medianas: [10]\n",
            "\n",
            "    Mediana encontrada! 10!!\n",
            "\n",
            "Arreglo post-particion: [10, 23, 26, 54, 98, 11]\n",
            "\n",
            "Pivote se encuentra en la posicion 5\n",
            "\n",
            "Comparaciones en esta pasada : 5\n",
            "Suma de comparaciones : 21\n",
            "\n",
            "Pasada numero 4\n",
            "\n",
            "Seleccion del pivote:\n",
            "\n",
            "        A = [[23, 26, 54, 98, 11]]\n",
            "        Lista de medianas: [26]\n",
            "\n",
            "    Mediana encontrada! 26!!\n",
            "\n",
            "Arreglo post-particion: [11, 23, 26, 54, 98]\n",
            "\n",
            "Pivote se encuentra en la posicion 8\n",
            "\n",
            "Comparaciones en esta pasada : 4\n",
            "Suma de comparaciones : 25\n",
            "\n",
            "Pasada numero 5\n",
            "\n",
            "Seleccion del pivote:\n",
            "\n",
            "        A = [[11, 23]]\n",
            "        Lista de medianas: [11]\n",
            "\n",
            "    Mediana encontrada! 11!!\n",
            "\n",
            "Arreglo post-particion: [11, 23]\n",
            "\n",
            "Pivote se encuentra en la posicion 6\n",
            "\n",
            "Comparaciones en esta pasada : 1\n",
            "Suma de comparaciones : 26\n",
            "\n",
            "El k-enesimo elemento mas pequeño es 23\n",
            "La cantidad de comparaciones en total es de 26\n"
          ]
        }
      ]
    },
    {
      "cell_type": "markdown",
      "source": [
        "# Correctitud\n",
        "\n",
        "por induccion en el tamaño n\n",
        "\n",
        "\n",
        "Caso n=1:\n",
        "\n",
        " Entonces i= 1,p=r, y el i-esimo es A[p] =A[r]\n",
        "\n",
        "Caso n>1:\n",
        "\n",
        "Con el pivote q siendo la mediana de la mediana tal que A[j]<A[q]<[k] para todo j y k con p<= j < q < k<=r\n",
        "\n",
        "Para k=q-p+1; tenemos:\n",
        "\n",
        "\n",
        "*   El k-ésimo elemento de A[p....r] es A[q]\n",
        "*   si i < k, el i-esimo de A[p.....r]es el i-esimo de A[p....q-1]\n",
        "\n",
        "\n",
        "*   si i > k, el i-esimo de A[p....r]es el(i-k)-esimo de A[q+ 1.....r]\n",
        "\n",
        "\n",
        "Entonces por induccion Select es correcto\n",
        "\n",
        "\n",
        "\n"
      ],
      "metadata": {
        "id": "4E9mNSF7IMBz"
      }
    },
    {
      "cell_type": "markdown",
      "source": [
        "# Tiempo de ejecucion\n",
        "\n",
        "T(n)=T(n/5)+T(7n/10+5)+O(n)\n",
        "\n",
        "\n",
        " Si el índice es menor que k se reduce el tiempo de O(nlogn) a O(n) y en el peor de los casos sera O(n^2)"
      ],
      "metadata": {
        "id": "OKIFCUk_GgPe"
      }
    },
    {
      "cell_type": "markdown",
      "source": [
        "# Experimentos"
      ],
      "metadata": {
        "id": "-cloxASAWci_"
      }
    },
    {
      "cell_type": "code",
      "source": [
        "import random\n",
        "\n",
        "def Rselect(A,p,r,i, c = 0):\n",
        "    if p == r : return A[p], c \n",
        "    \n",
        "    q = random.randrange(p, r+1)\n",
        "\n",
        "    aux = A[q]\n",
        "    A[q] = A[r]\n",
        "    A[r] = aux   \n",
        "    q, comp = partition(A, p ,r)\n",
        "    k = q-p+1\n",
        "\n",
        "    c = c + comp\n",
        "\n",
        "    if i == k: return A[q], comp\n",
        "    elif i < k:\n",
        "        return Rselect(A, p , q-1, i, c=c)\n",
        "    else: \n",
        "        return Rselect(A, q+1, r, i-k, c=c)"
      ],
      "metadata": {
        "id": "h0r_9oSkWOZh"
      },
      "execution_count": null,
      "outputs": []
    },
    {
      "cell_type": "code",
      "source": [
        "import matplotlib.pyplot as plt\n",
        "import seaborn as sns\n",
        "import datetime\n",
        "from timeit import repeat\n",
        "\n",
        "\n",
        "x=[]; x2=[]\n",
        "y=[]; y2=[]\n",
        "\n",
        "for n in range(5,400):\n",
        "\n",
        "  a = random.sample(range(1, 1000), n)\n",
        "  t = repeat(setup=\"from __main__ import Select\", stmt=f\"Select({a},{0},{len(a)-1}, {n//2})\", repeat=1, number=10)\n",
        "  x.append(n)\n",
        "  y.append(t)\n",
        "  a = random.sample(range(1, 1000), n)\n",
        "  t = repeat(setup=\"from __main__ import Rselect\", stmt=f\"Rselect({a},{0},{len(a)-1}, {n//2})\", repeat=1, number=10)\n",
        "\n",
        "  x2.append(n)\n",
        "  y2.append(t)\n",
        "  \n",
        "plt.plot(x,y)\n",
        "plt.plot(x2,y2)\n",
        "plt.legend([\"select\", \"Rselect\"])\n",
        "\n",
        "plt.xlabel('n')\n",
        "plt.ylabel('time in ms')\n",
        "plt.show()"
      ],
      "metadata": {
        "colab": {
          "base_uri": "https://localhost:8080/",
          "height": 279
        },
        "id": "ap5xUzGWWfZd",
        "outputId": "af757b1c-77b5-4d1f-be9a-851d2a80476a"
      },
      "execution_count": null,
      "outputs": [
        {
          "output_type": "display_data",
          "data": {
            "text/plain": [
              "<Figure size 432x288 with 1 Axes>"
            ],
            "image/png": "[encoded data removed]"
          },
          "metadata": {
            "needs_background": "light"
          }
        }
      ]
    },
    {
      "cell_type": "markdown",
      "source": [
        "# Analisis Comparacion con Rselect\n",
        "\n",
        "Select posee mas operaciones que Rselect por lo tanto era de esperarse que fueras menos eficiente en tiempo que Rselect"
      ],
      "metadata": {
        "id": "36CadH4BW4Al"
      }
    }
  ]
}