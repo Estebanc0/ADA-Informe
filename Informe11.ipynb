{
  "nbformat": 4,
  "nbformat_minor": 0,
  "metadata": {
    "colab": {
      "provenance": [],
      "collapsed_sections": [],
      "authorship_tag": "ABX9TyMPz1kgLf4b/WzpyRAypa/q",
      "include_colab_link": true
    },
    "kernelspec": {
      "name": "python3",
      "display_name": "Python 3"
    },
    "language_info": {
      "name": "python"
    }
  },
  "cells": [
    {
      "cell_type": "markdown",
      "metadata": {
        "id": "view-in-github",
        "colab_type": "text"
      },
      "source": [
        "<a href=\"https://colab.research.google.com/github/Estebanc0/ADA-Informes/blob/main/Informe11.ipynb\" target=\"_parent\"><img src=\"https://colab.research.google.com/assets/colab-badge.svg\" alt=\"Open In Colab\"/></a>"
      ]
    },
    {
      "cell_type": "markdown",
      "source": [
        "# Analisis del problema\n",
        "Entrada: un grafo \n",
        "\n",
        "Salida: el coste minimo del arbol de expasion"
      ],
      "metadata": {
        "id": "VviSrHqLfuYc"
      }
    },
    {
      "cell_type": "markdown",
      "source": [
        "# Análisis del algoritmo:\n",
        "\n",
        "\n",
        "1.   ordenar todos los bordes en orden no decreciente de sus pesos. Si no se nos permite cambiar el gráfico dado, podemos crear una copia del gráfico\n",
        "\n",
        "2.  Se Crean subconjuntos V con elementos individuales\n",
        "\n",
        "2.   Luego mientras El número de aristas sea igual a V-1 Elija el borde más pequeño e incremente el índice para la próxima iteración\n",
        "\n",
        "1.   Aun dentro del while Si al incluir el borde seleccionado anteriormente no causa un ciclo, inclúyalo en el resultado e incremente el índice del resultado para el siguiente borde De lo contrario descartar el borde\n",
        "\n",
        "\n"
      ],
      "metadata": {
        "id": "R_Mv7Sx1eYrN"
      }
    },
    {
      "cell_type": "code",
      "execution_count": 22,
      "metadata": {
        "id": "sEVD6iWm3nj9"
      },
      "outputs": [],
      "source": [
        "class Graph:\n",
        " \n",
        "    def __init__(self, vertices):\n",
        "        self.V = vertices  # No. of vertices\n",
        "        self.graph = []\n",
        "        # to store graph\n",
        " \n",
        "    # function to add an edge to graph\n",
        "    def addEdge(self, u, v, w):\n",
        "        self.graph.append([u, v, w])\n",
        " \n",
        "    # A utility function to find set of an element i\n",
        "    # (truly uses path compression technique)\n",
        "    def find(self, parent, i):\n",
        "        if parent[i] != i:\n",
        "          # Reassignment of node's parent to root node as\n",
        "          # path compression requires\n",
        "            parent[i] = self.find(parent, parent[i])\n",
        "        return parent[i]\n",
        " \n",
        "    # A function that does union of two sets of x and y\n",
        "    # (uses union by rank)\n",
        "    def union(self, parent, rank, x, y):\n",
        "        \n",
        "        # Attach smaller rank tree under root of\n",
        "        # high rank tree (Union by Rank)\n",
        "        if rank[x] < rank[y]:\n",
        "            parent[x] = y\n",
        "        elif rank[x] > rank[y]:\n",
        "            parent[y] = x\n",
        " \n",
        "        # If ranks are same, then make one as root\n",
        "        # and increment its rank by one\n",
        "        else:\n",
        "            parent[y] = x\n",
        "            rank[x] += 1\n",
        " \n",
        "    # The main function to construct MST using Kruskal's\n",
        "        # algorithm\n",
        "    def KruskalMST(self):\n",
        " \n",
        "        result = []  # This will store the resultant MST\n",
        " \n",
        "        # An index variable, used for sorted edges\n",
        "        i = 0\n",
        " \n",
        "        # An index variable, used for result[]\n",
        "        e = 0\n",
        " \n",
        "        # Step 1:  Sort all the edges in\n",
        "        # non-decreasing order of their\n",
        "        # weight.  If we are not allowed to change the\n",
        "        # given graph, we can create a copy of graph\n",
        "        self.graph = sorted(self.graph,\n",
        "                            key=lambda item: item[2])\n",
        " \n",
        "        parent = []\n",
        "        rank = []\n",
        " \n",
        "        # Create V subsets with single elements\n",
        "        for node in range(self.V):\n",
        "            parent.append(node)\n",
        "            rank.append(0)\n",
        " \n",
        "        # Number of edges to be taken is equal to V-1\n",
        "        while e < self.V - 1:\n",
        " \n",
        "            # Step 2: Pick the smallest edge and increment\n",
        "            # the index for next iteration\n",
        "            u, v, w = self.graph[i]\n",
        "            i = i + 1\n",
        "            x = self.find(parent, u)\n",
        "            y = self.find(parent, v)\n",
        " \n",
        "            # If including this edge doesn't\n",
        "            # cause cycle, then include it in result\n",
        "            # and increment the index of result\n",
        "            # for next edge\n",
        "            if x != y:\n",
        "                e = e + 1\n",
        "                result.append([u, v, w])\n",
        "                self.union(parent, rank, x, y)\n",
        "            # Else discard the edge\n",
        " \n",
        "        minimumCost = 0\n",
        "       # print(\"Edges in the constructed MST\")\n",
        "        for u, v, weight in result:\n",
        "            minimumCost += weight\n",
        "        #    print(\"%d -- %d == %d\" % (u, v, weight))\n",
        "        #print(\"Minimum Spanning Tree\", minimumCost)\n",
        " \n",
        " \n",
        "# Driver's code\n",
        "if __name__ == '__main__':\n",
        "    g = Graph(4)\n",
        "    g.addEdge(0, 1, 10)\n",
        "    g.addEdge(0, 2, 6)\n",
        "    g.addEdge(0, 3, 5)\n",
        "    g.addEdge(1, 3, 15)\n",
        "    g.addEdge(2, 3, 4)\n",
        " \n",
        "    # Function call\n",
        "    g.KruskalMST()\n",
        " "
      ]
    },
    {
      "cell_type": "markdown",
      "source": [
        "# Tiempo de ejecución\n",
        "O(ElogE) o O(ElogV), la clasificación de los bordes requiere tiempo O(ELogE) (donde E es el número de aristas). Después de ordenar, iteramos a través de todos los bordes y aplicamos el algoritmo de búsqueda de unión. Las operaciones de búsqueda y unión pueden tomar como máximo el tiempo O(LogV). Entonces, la complejidad general es O (ELogE + ELogV) tiempo. El valor de E puede ser como máximo O(V 2 ), por lo que O(LogV) es O(LogE) igual. Por lo tanto, la complejidad temporal general es O(ElogE) u O(ElogV)"
      ],
      "metadata": {
        "id": "BZ4gpFZa3woh"
      }
    },
    {
      "cell_type": "markdown",
      "source": [
        "# Correctitud\n",
        "Teorema: el algoritmo de Kruskal encuentra un árbol de expansión mínimo.\n",
        "\n",
        "Prueba: Sea G = (V, E) un gráfico conexo ponderado. Sea T el conjunto de aristas que crece en el algoritmo de Kruskal. La prueba es por inducción matemática sobre el número de aristas en T.\n",
        "\n",
        "Mostramos que si T es prometedor en cualquier etapa del algoritmo, entonces sigue siendo prometedor cuando se le agrega una nueva ventaja en el algoritmo de Kruskal.\n",
        "Cuando el algoritmo termina, sucederá que T da una solución al problema y por lo tanto un MST.\n",
        "Base: T =  $ \\phi$es prometedor ya que un gráfico conectado ponderado siempre tiene al menos un MST.\n",
        "Paso de inducción: Sea T prometedor justo antes de agregar una nueva arista e = ( u , v ). Los bordes T dividen los nodos de G en uno o más componentes conectados. u y v estarán en dos componentes diferentes. Sea U el conjunto de nodos de la componente que incluye a u. Tenga en cuenta que\n",
        "\n",
        "U es un subconjunto estricto de V\n",
        "T es un conjunto prometedor de aristas tal que ninguna arista en T deja U (ya que una arista T tiene ambos extremos en U o no tiene ningún extremo en U)\n",
        "e es una arista de menor costo que deja U (ya que el algoritmo de Kruskal, siendo codicioso, habría elegido e solo después de examinar aristas más cortas que e)\n",
        "Las tres condiciones anteriores son precisamente como en el MST Lemma y, por lo tanto, podemos concluir que  T { e } también es prometedor. Cuando el algoritmo se detiene, T proporciona no solo un árbol de expansión, sino un árbol de expansión mínimo, ya que es prometedor. "
      ],
      "metadata": {
        "id": "pNNc_MWR3oW4"
      }
    },
    {
      "cell_type": "code",
      "source": [
        "\n",
        "import random\n",
        "\n",
        "# Crea un grafo de tipo array de arrays\n",
        "# que contiene [i, j, peso]\n",
        "# siendo i y j los nodos conectados\n",
        "def graph_instance_creator(V):\n",
        "  graph = Graph(V)\n",
        "  for i in range(V):\n",
        "    for j in range(i+1, V):\n",
        "      graph.addEdge(i, j, random.randint(1, 500))\n",
        "  \n",
        "  return graph"
      ],
      "metadata": {
        "id": "aiyYZrdBg0DI"
      },
      "execution_count": 21,
      "outputs": []
    },
    {
      "cell_type": "code",
      "source": [
        "import matplotlib.pyplot as plt\n",
        "import seaborn as sns\n",
        "import datetime\n",
        "from timeit import repeat\n",
        "import numpy as np\n",
        "\n",
        "%matplotlib inline\n",
        "sns.set(context='notebook', style='darkgrid', palette='dark')\n",
        "sns.set(rc={'figure.figsize':(11.7,8.27)})\n",
        "\n",
        "# Tiempo\n",
        "\n",
        "x=[]; \n",
        "y=[]; \n",
        "\n",
        "for n in range(1,20):\n",
        "  a= graph_instance_creator(n)\n",
        "\n",
        "  t = repeat(setup=\"from __main__ import KruskalMST\", stmt=f\"{a.KruskalMST()}\", repeat=1, number=10)\n",
        "  \n",
        "  x.append(n)\n",
        "  y.append(t)\n",
        "\n",
        "\n",
        "plt.plot(x,y)\n",
        "\n",
        "plt.legend([\"KruscalMST\"])\n",
        "plt.title(\"Tiempo de ejecucion\")\n",
        "\n",
        "plt.xlabel('n')\n",
        "plt.ylabel('time in ms')\n",
        "plt.show()"
      ],
      "metadata": {
        "colab": {
          "base_uri": "https://localhost:8080/",
          "height": 474
        },
        "id": "CzwQOf5Ihjjm",
        "outputId": "9704536b-dc95-4dc4-96b5-aa7f618d90c0"
      },
      "execution_count": 29,
      "outputs": [
        {
          "output_type": "display_data",
          "data": {
            "text/plain": [
              "<Figure size 842.4x595.44 with 1 Axes>"
            ],
            "image/png": "[encoded data removed]"
          },
          "metadata": {}
        }
      ]
    },
    {
      "cell_type": "markdown",
      "source": [
        "# Análisis experimento\n",
        "\n",
        "\n",
        "Según lo indicado en el gráfico de su tiempo de ejecución experimental el algoritmo Presenta un mayor tiempo en ejecutarse al tener entre 1 y 2.5 elementos para dar la mayor bajada en toda su ejecución y luego comienza a aumentar el tiempo a medida que aumenta la cantidad de datos"
      ],
      "metadata": {
        "id": "vk9si_U1iueG"
      }
    }
  ]
}