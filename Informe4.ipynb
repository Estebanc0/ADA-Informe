{
  "nbformat": 4,
  "nbformat_minor": 0,
  "metadata": {
    "colab": {
      "provenance": [],
      "collapsed_sections": [],
      "authorship_tag": "ABX9TyP1v/QFuGaggaW4GwIWAvP4",
      "include_colab_link": true
    },
    "kernelspec": {
      "name": "python3",
      "display_name": "Python 3"
    },
    "language_info": {
      "name": "python"
    }
  },
  "cells": [
    {
      "cell_type": "markdown",
      "metadata": {
        "id": "view-in-github",
        "colab_type": "text"
      },
      "source": [
        "<a href=\"https://colab.research.google.com/github/Estebanc0/ADA-Informes/blob/main/Informe4.ipynb\" target=\"_parent\"><img src=\"https://colab.research.google.com/assets/colab-badge.svg\" alt=\"Open In Colab\"/></a>"
      ]
    },
    {
      "cell_type": "markdown",
      "source": [
        "# Descripción del problema \n",
        "\n",
        "\n",
        "Se crea la función quicksort la cual recibe como entrada un arreglo de tamaño n junto a la posición pivote y a la posición final del arreglo. Como salida la función retorna el arreglo ordenado de menor a mayor"
      ],
      "metadata": {
        "id": "TXayx5JZY6a9"
      }
    },
    {
      "cell_type": "markdown",
      "source": [
        "\n",
        "# Descripción del algoritmo \n",
        "\n",
        "\n",
        "La función quicksort comienza definiendo dos índices con el valor inicial (i) y el valor final (j) del arreglo(L) además de un pivote el cual es la mitad de la suma del valor inicial y el final.\n",
        "\n",
        "Luego dentro de un ciclo while el cual continúa hasta que i no sea menor que j\n",
        "\n",
        "\n",
        "\n",
        "1.   Se incrementa el valor de i mientras L[i] sea menor que el pivote \n",
        "\n",
        "2.   Se decrementa el valor de j mientras L[j] sea mayor que el pivote\n",
        "\n",
        "1.   Si se llegan a cruzar los índices (que i sea menor o igual que j) se crea una variable temporal para intercambiar los valores de l[j] y l[i] además se incrementa y decrementa i y j respectivamente\n",
        "\n",
        "2.   Se comprueba que j sea mayor que 0 y se comprueba que i sea menor al tamaño del arreglo-1 si alguna se cumple se llama recursivamente a quicksort ingresando el parámetro first o last como corresponda\n",
        "\n",
        "1.   Por último se retorna el arreglo ya ordenado"
      ],
      "metadata": {
        "id": "PQUnwt79avOA"
      }
    },
    {
      "cell_type": "code",
      "source": [
        "def partition(L,first,last,verbose=False):\n",
        "    global i\n",
        "    global j\n",
        "    global cont \n",
        "    global comparaciones\n",
        "    \n",
        "    cont+=1   \n",
        "    pivote = (L[i] + L[j]) / 2\n",
        "    if verbose==True:\n",
        "      print(\"Pasada numero \", cont,\"\\nArreglo entrante: \", L,\"\\n\" )\n",
        "    # iteramos hasta que i no sea menor que j\n",
        "    \n",
        "    while i < j:\n",
        "        comparaciones+=1\n",
        "        # iteramos mientras que el valor de L[i] sea menor que pivote\n",
        "        while L[i] < pivote:\n",
        "            # Incrementamos el índice\n",
        "            i+=1\n",
        "        # iteramos mientras que el valor de L[j] sea mayor que pivote\n",
        "        while L[j] > pivote:\n",
        "            # decrementamos el índice\n",
        "            j-=1\n",
        "        # si i es menor o igual que j significa que los índices se han cruzado\n",
        "        if i <= j:\n",
        "            # creamos una variable temporal para guardar el valor de L[j]\n",
        "            x = L[j]\n",
        "            # intercambiamos los valores de L[j] y L[i]\n",
        "            if verbose==True:\n",
        "              print(\"Se intercambia el valor\",L[j],\"con el valor\",L[i])\n",
        "              global aux\n",
        "              aux=aux+1\n",
        "              \n",
        "            L[j] = L[i]\n",
        "            L[i] = x\n",
        "            \n",
        "            # incrementamos y decrementamos i y j respectivamente\n",
        "            i+=1\n",
        "            j-=1\n"
      ],
      "metadata": {
        "id": "xHTY0-cBZ5ee"
      },
      "execution_count": 22,
      "outputs": []
    },
    {
      "cell_type": "code",
      "source": [
        "def quicksort(L, first, last,verbose=False):\n",
        "  global aux\n",
        "  global i\n",
        "  global j\n",
        "  aux=0\n",
        "  i=first\n",
        "  j=last\n",
        "  \n",
        "  if verbose==True:\n",
        "    partition(L,first,last,verbose=True)\n",
        "    if aux==0: print(\"No se realizaron intercambios\\n\")\n",
        "    else: print(\"\\n\")\n",
        "    if first < j:\n",
        "      L = quicksort(L, first, j,verbose=True)\n",
        "    # si last es mayor que i mantenemos la recursividad\n",
        "    if last > i:\n",
        "      L = quicksort(L, i, last,verbose=True)\n",
        "\n",
        "    else:\n",
        "      partition(L,first,last,verbose=False)\n",
        "      # si first es menor que j mantenemos la recursividad\n",
        "      if first < j:   \n",
        "          L = quicksort(L, first, j)\n",
        "      # si last es mayor que i mantenemos la recursividad\n",
        "      if last > i:\n",
        "          L = quicksort(L, i, last)\n",
        "\n",
        "    # devolvemos la lista ordenada\n",
        "    return L"
      ],
      "metadata": {
        "id": "DWZ9zYFeZTOc"
      },
      "execution_count": 9,
      "outputs": []
    },
    {
      "cell_type": "code",
      "source": [
        "arreglo = [4,1,9,8,2,10,1,5,7,1]\n",
        "print(\"Antes de ordenarlo: \")\n",
        "print(arreglo)\n",
        "cont=0\n",
        "i=0\n",
        "j=len(arreglo)-1\n",
        "comparaciones=0\n",
        "quicksort(arreglo, 0, len(arreglo) - 1)\n",
        "print(\"Después de ordenarlo: \")\n",
        "print(arreglo)\n"
      ],
      "metadata": {
        "colab": {
          "base_uri": "https://localhost:8080/"
        },
        "id": "5u-JunWtZcKV",
        "outputId": "5392047a-908d-438a-8032-cf0b4e7ad3bf"
      },
      "execution_count": 10,
      "outputs": [
        {
          "output_type": "stream",
          "name": "stdout",
          "text": [
            "Antes de ordenarlo: \n",
            "[4, 1, 9, 8, 2, 10, 1, 5, 7, 1]\n",
            "Después de ordenarlo: \n",
            "[4, 1, 9, 8, 2, 10, 1, 5, 7, 1]\n"
          ]
        }
      ]
    },
    {
      "cell_type": "markdown",
      "source": [
        "# -Paso a paso con la opción verbose"
      ],
      "metadata": {
        "id": "0yHhNVnQPlFz"
      }
    },
    {
      "cell_type": "code",
      "source": [
        "arreglo = [4,1,9,8,2,10,1,5,7,1]\n",
        "print(\"Antes de ordenarlo: \")\n",
        "print(arreglo)\n",
        "cont=0\n",
        "aux=0\n",
        "comparaciones=0\n",
        "quicksort(arreglo, 0, len(arreglo) - 1,verbose=True)\n",
        "print(\"Después de ordenarlo: \")\n",
        "print(arreglo)\n",
        "print(\"El algoritmo fue llamado recursivamente:\",cont-1,\"veces\")\n",
        "print(\"Total de comparaciones:\",comparaciones)"
      ],
      "metadata": {
        "colab": {
          "base_uri": "https://localhost:8080/"
        },
        "outputId": "8443d3a8-ba0b-46d4-bea1-5cf7f47f0121",
        "id": "LHCWHqLNP2DU"
      },
      "execution_count": 19,
      "outputs": [
        {
          "output_type": "stream",
          "name": "stdout",
          "text": [
            "Antes de ordenarlo: \n",
            "[4, 1, 9, 8, 2, 10, 1, 5, 7, 1]\n",
            "Pasada numero  1 \n",
            "Arreglo entrante:  [4, 1, 9, 8, 2, 10, 1, 5, 7, 1] \n",
            "\n",
            "Se intercambia el valor 1 con el valor 4\n",
            "Se intercambia el valor 1 con el valor 9\n",
            "Se intercambia el valor 2 con el valor 8\n",
            "\n",
            "\n",
            "Pasada numero  2 \n",
            "Arreglo entrante:  [1, 1, 1, 2, 8, 10, 9, 5, 7, 4] \n",
            "\n",
            "No se realizaron intercambios\n",
            "\n",
            "Pasada numero  3 \n",
            "Arreglo entrante:  [1, 1, 1, 2, 8, 10, 9, 5, 7, 4] \n",
            "\n",
            "Se intercambia el valor 1 con el valor 1\n",
            "\n",
            "\n",
            "Pasada numero  4 \n",
            "Arreglo entrante:  [1, 1, 1, 2, 8, 10, 9, 5, 7, 4] \n",
            "\n",
            "Se intercambia el valor 1 con el valor 1\n",
            "\n",
            "\n",
            "Pasada numero  6 \n",
            "Arreglo entrante:  [1, 1, 1, 2, 8, 10, 9, 5, 7, 4] \n",
            "\n",
            "Se intercambia el valor 1 con el valor 1\n",
            "\n",
            "\n",
            "Pasada numero  8 \n",
            "Arreglo entrante:  [1, 1, 1, 2, 8, 10, 9, 5, 7, 4] \n",
            "\n",
            "No se realizaron intercambios\n",
            "\n",
            "Pasada numero  10 \n",
            "Arreglo entrante:  [1, 1, 1, 2, 8, 10, 9, 5, 7, 4] \n",
            "\n",
            "No se realizaron intercambios\n",
            "\n",
            "Pasada numero  11 \n",
            "Arreglo entrante:  [1, 1, 1, 2, 8, 10, 9, 5, 7, 4] \n",
            "\n",
            "Se intercambia el valor 4 con el valor 8\n",
            "Se intercambia el valor 5 con el valor 10\n",
            "\n",
            "\n",
            "Pasada numero  12 \n",
            "Arreglo entrante:  [1, 1, 1, 2, 4, 5, 9, 10, 7, 8] \n",
            "\n",
            "No se realizaron intercambios\n",
            "\n",
            "Pasada numero  13 \n",
            "Arreglo entrante:  [1, 1, 1, 2, 4, 5, 9, 10, 7, 8] \n",
            "\n",
            "No se realizaron intercambios\n",
            "\n",
            "Pasada numero  15 \n",
            "Arreglo entrante:  [1, 1, 1, 2, 4, 5, 9, 10, 7, 8] \n",
            "\n",
            "No se realizaron intercambios\n",
            "\n",
            "Pasada numero  17 \n",
            "Arreglo entrante:  [1, 1, 1, 2, 4, 5, 9, 10, 7, 8] \n",
            "\n",
            "Se intercambia el valor 8 con el valor 9\n",
            "Se intercambia el valor 7 con el valor 10\n",
            "\n",
            "\n",
            "Pasada numero  18 \n",
            "Arreglo entrante:  [1, 1, 1, 2, 4, 5, 8, 7, 10, 9] \n",
            "\n",
            "Se intercambia el valor 7 con el valor 8\n",
            "\n",
            "\n",
            "Pasada numero  20 \n",
            "Arreglo entrante:  [1, 1, 1, 2, 4, 5, 7, 8, 10, 9] \n",
            "\n",
            "No se realizaron intercambios\n",
            "\n",
            "Pasada numero  21 \n",
            "Arreglo entrante:  [1, 1, 1, 2, 4, 5, 7, 8, 10, 9] \n",
            "\n",
            "Se intercambia el valor 9 con el valor 10\n",
            "\n",
            "\n",
            "Después de ordenarlo: \n",
            "[1, 1, 1, 2, 4, 5, 7, 8, 9, 10]\n",
            "El algoritmo fue llamado recursivamente: 21 veces\n",
            "Total de comparaciones: 19\n"
          ]
        }
      ]
    },
    {
      "cell_type": "markdown",
      "source": [
        "# -Ejemplo del código con el pivote como último elemento del arreglo"
      ],
      "metadata": {
        "id": "O0JK-F9yc0vf"
      }
    },
    {
      "cell_type": "code",
      "source": [
        "def partition_f(L,first,last):\n",
        "  i = first\n",
        "  j = last    \n",
        "  pivote =L[i]\n",
        "  while i < j:\n",
        "    # iteramos mientras que el valor de L[i] sea menor que pivote\n",
        "    while L[i] < pivote:\n",
        "        # Incrementamos el índice\n",
        "        i+=1\n",
        "    # iteramos mientras que el valor de L[j] sea mayor que pivote\n",
        "    while L[j] > pivote:\n",
        "        # decrementamos el índice\n",
        "        j-=1\n",
        "    # si i es menor o igual que j significa que los índices se han cruzado\n",
        "    if i <= j:\n",
        "        # creamos una variable temporal para guardar el valor de L[j]\n",
        "        x = L[j]\n",
        "        # intercambiamos los valores de L[j] y L[i]\n",
        "        L[j] = L[i]\n",
        "        L[i] = x\n",
        "        # incrementamos y decrementamos i y j respectivamente\n",
        "        i+=1\n",
        "        j-=1\n",
        "        return i,j    \n"
      ],
      "metadata": {
        "id": "JKSZsP1BZVDd"
      },
      "execution_count": 35,
      "outputs": []
    },
    {
      "cell_type": "code",
      "source": [
        "def quicksort_f(L, first, last):\n",
        "  i=first\n",
        "  j=last\n",
        "  i,j=partition_f(L , first , last)\n",
        "\n",
        "  if first < j:\n",
        "      L = quicksort_f(L, first, j)\n",
        "    \n",
        "  if last > i:\n",
        "      L = quicksort_f(L, i, last)\n",
        "\n",
        "   \n",
        "  return L"
      ],
      "metadata": {
        "id": "2wo_MVblZJyo"
      },
      "execution_count": 36,
      "outputs": []
    },
    {
      "cell_type": "code",
      "source": [
        "arreglo = [4,1,9,8,2,10,1,5,7,53]\n",
        "print(\"Antes de ordenarlo: \")\n",
        "print(arreglo)\n",
        "quicksort_f(arreglo, 0, len(arreglo) - 1)\n",
        "print(\"Después de ordenarlo: \")\n",
        "print(arreglo)"
      ],
      "metadata": {
        "colab": {
          "base_uri": "https://localhost:8080/"
        },
        "outputId": "d69093bc-178c-4379-e82f-44cc42df1d85",
        "id": "izKYGLH8dHQp"
      },
      "execution_count": null,
      "outputs": [
        {
          "output_type": "stream",
          "name": "stdout",
          "text": [
            "Antes de ordenarlo: \n",
            "[4, 1, 9, 8, 2, 10, 1, 5, 7, 53]\n",
            "Después de ordenarlo: \n",
            "[1, 1, 2, 4, 5, 7, 8, 9, 10, 53]\n"
          ]
        }
      ]
    },
    {
      "cell_type": "markdown",
      "source": [
        "# -Ejemplo del código con el pivote como primer elemento del arreglo"
      ],
      "metadata": {
        "id": "wTiGXo3dfL6N"
      }
    },
    {
      "cell_type": "code",
      "source": [
        "def partition_p(L,first,last):\n",
        "  i = first\n",
        "  j = last    \n",
        "  pivote =L[i]\n",
        "  while i < j:\n",
        "    # iteramos mientras que el valor de L[i] sea menor que pivote\n",
        "    while L[i] < pivote:\n",
        "        # Incrementamos el índice\n",
        "        i+=1\n",
        "    # iteramos mientras que el valor de L[j] sea mayor que pivote\n",
        "    while L[j] > pivote:\n",
        "        # decrementamos el índice\n",
        "        j-=1\n",
        "    # si i es menor o igual que j significa que los índices se han cruzado\n",
        "    if i <= j:\n",
        "        # creamos una variable temporal para guardar el valor de L[j]\n",
        "        x = L[j]\n",
        "        # intercambiamos los valores de L[j] y L[i]\n",
        "        L[j] = L[i]\n",
        "        L[i] = x\n",
        "        # incrementamos y decrementamos i y j respectivamente\n",
        "        i+=1\n",
        "        j-=1\n",
        "        return i,j    \n"
      ],
      "metadata": {
        "id": "QXGkbuI1WKRm"
      },
      "execution_count": 37,
      "outputs": []
    },
    {
      "cell_type": "code",
      "source": [
        "def quicksort_p(L, first, last):\n",
        "  i=first\n",
        "  j=last\n",
        "  i,j=partition_p(L , first , last)\n",
        "\n",
        "  if first < j:\n",
        "      L = quicksort_p(L, first, j)\n",
        "    \n",
        "  if last > i:\n",
        "      L = quicksort_p(L, i, last)\n",
        "\n",
        "   \n",
        "  return L"
      ],
      "metadata": {
        "id": "eQ0cjpImfLFD"
      },
      "execution_count": 38,
      "outputs": []
    },
    {
      "cell_type": "code",
      "source": [
        "arreglo = [4,1,9,8,2,10,1,5,7,53]\n",
        "print(\"Antes de ordenarlo: \")\n",
        "print(arreglo)\n",
        "quicksort_p(arreglo, 0, len(arreglo) - 1)\n",
        "print(\"Después de ordenarlo: \")\n",
        "print(arreglo)\n"
      ],
      "metadata": {
        "colab": {
          "base_uri": "https://localhost:8080/"
        },
        "id": "4UhnJJPdfe1b",
        "outputId": "f6c77999-472b-4eb0-cace-e8e1d15e0eb7"
      },
      "execution_count": null,
      "outputs": [
        {
          "output_type": "stream",
          "name": "stdout",
          "text": [
            "Antes de ordenarlo: \n",
            "[4, 1, 9, 8, 2, 10, 1, 5, 7, 53]\n",
            "Después de ordenarlo: \n",
            "[1, 1, 2, 4, 5, 7, 8, 9, 10, 53]\n"
          ]
        }
      ]
    },
    {
      "cell_type": "markdown",
      "source": [
        "# Propiedades del algoritmo\n",
        "\n",
        "\n",
        "## Tiempo de ejecución\n",
        "\n",
        "\n",
        "\n",
        "Función de recurrencia t(n)= 2* t(n/2)+n\n",
        "\n",
        "\n",
        "\n",
        "a=2 , b=2, d=1\n",
        "\n",
        "\n",
        "\n",
        "Por teorema maestro: 2=2^1\n",
        "\n",
        "\n",
        "\n",
        "\n",
        "\n",
        "El peor caso ocurre cuando el pivote siempre se inclina hacia un solo lado es decir siempre queda un arreglo de 1 elemento en este caso posee un tiempo de ejecución de O(n^2) y en el mejor de los casos O(n log n)"
      ],
      "metadata": {
        "id": "yu4-iiUxQVz1"
      }
    },
    {
      "cell_type": "code",
      "source": [
        "def merge_sort(lista,verbose=False):\n",
        "  global aux\n",
        "  global n\n",
        "\n",
        "  if len(lista) < 2:\n",
        "    return lista\n",
        "    \n",
        "    # De lo contrario, se divide en 2\n",
        "  else:\n",
        "    if verbose == True : \n",
        "      print(\"Pasada N\",n,\":\",lista)\n",
        "      n+=1\n",
        "    if verbose==True:\n",
        "      aux+=1\n",
        "      middle = len(lista) // 2\n",
        "      right = merge_sort(lista[:middle],verbose=True)\n",
        "      left = merge_sort(lista[middle:],verbose=True)\n",
        "      if verbose==True:\n",
        "        print(\"Sub arreglo ordenado:\",merge(right,left))\n",
        "        print(\"\\n\")\n",
        "      return merge(right,left)\n",
        "    else:\n",
        "      aux+=1\n",
        "      middle = len(lista) // 2\n",
        "      right = merge_sort(lista[:middle])\n",
        "      left = merge_sort(lista[middle:])\n",
        "      return merge(right,left)\n",
        "    \n",
        "    \n"
      ],
      "metadata": {
        "id": "QEM6Np9brFhL"
      },
      "execution_count": 14,
      "outputs": []
    },
    {
      "cell_type": "code",
      "source": [
        "def merge(lista1, lista2):\n",
        "  global cont\n",
        "  i, j = 0, 0 # Variables de incremento\n",
        "  result = [] # Lista de resultadoç\n",
        "\n",
        "  while(i < len(lista1) and j < len(lista2)):\n",
        "    cont+=1\n",
        "    if (lista1[i] < lista2[j]):\n",
        "      result.append(lista1[i])\n",
        "      i += 1\n",
        "    else:\n",
        "      result.append(lista2[j])\n",
        "      j += 1\n",
        "\n",
        "  result += lista1[i:]\n",
        "  result += lista2[j:]\n",
        "\n",
        "  \n",
        "  \n",
        "  return result\n"
      ],
      "metadata": {
        "id": "NBj-SCXPrML_"
      },
      "execution_count": 13,
      "outputs": []
    },
    {
      "cell_type": "code",
      "source": [
        "import matplotlib.pyplot as plt\n",
        "import datetime\n",
        "import random\n",
        "from timeit import repeat\n",
        "\n",
        "x=[]; y=[]; z=[]\n",
        "\n",
        "for n in range(5,500):\n",
        "\n",
        "  a = random.sample(range(1, 1000), n)\n",
        "\n",
        " \n",
        "  t = repeat(setup=\"from __main__ import merge_sort\", stmt=f\"merge_sort({a})\", repeat=1, number=10)\n",
        "  h = repeat(setup=\"from __main__ import quicksort\", stmt=f\"quicksort({a},{0},{len(a)-1})\", repeat=1, number=10)\n",
        "\n",
        "  x.append(n)\n",
        "  y.append(t)\n",
        "  z.append(h)\n",
        "\n",
        "plt.plot(x,y,z)\n",
        "plt.legend([\"MergeSort\",\"quicksort\"])\n",
        "plt.xlabel('Tamaño del arreglo')\n",
        "plt.ylabel('time in ms')\n",
        "plt.show()"
      ],
      "metadata": {
        "colab": {
          "base_uri": "https://localhost:8080/",
          "height": 279
        },
        "id": "PUg1E8IN0S4x",
        "outputId": "ebb85ae4-f0d4-46d8-8c6d-cab2c61b8e7c"
      },
      "execution_count": 17,
      "outputs": [
        {
          "output_type": "display_data",
          "data": {
            "text/plain": [
              "<Figure size 432x288 with 1 Axes>"
            ],
            "image/png": "[encoded data removed]"
          },
          "metadata": {
            "needs_background": "light"
          }
        }
      ]
    },
    {
      "cell_type": "markdown",
      "source": [
        "# Análisis\n",
        "\n",
        "\n",
        "Según lo que muestro el gráfico (Seguramente hubo un error y por eso mostró estos resultados) quicksort es muy eficiente a comparación de merge sort"
      ],
      "metadata": {
        "id": "SNrDwM3S1E3V"
      }
    },
    {
      "cell_type": "code",
      "source": [
        "import matplotlib.pyplot as plt\n",
        "import random\n",
        "\n",
        "x=[n for n in range(5,20)] \n",
        "y1=[n*(n-1)/2 for n in range(5,20)] #peor  \n",
        "y2=[n-1 for n in range(5,20)] #mejor\n",
        "y=[]\n",
        "cont = 0\n",
        "\n",
        "for n in range(5,20):\n",
        "  b = random.sample(range(1, 100), n)\n",
        "  size = len(b)\n",
        "  b = quicksort(b, 0, size - 1)\n",
        "  y.append(cont)\n",
        "\n",
        "plt.plot(x,y)\n",
        "plt.plot(x,y1)\n",
        "plt.plot(x,y2)\n",
        "plt.legend([\"Quick Sort\", \"Peor caso\", \"Mejor caso\"])\n",
        "\n",
        "plt.xlabel('n')\n",
        "plt.ylabel('número de operaciones')\n",
        "plt.show()"
      ],
      "metadata": {
        "colab": {
          "base_uri": "https://localhost:8080/",
          "height": 279
        },
        "id": "g9CiDbfH1EDz",
        "outputId": "39d5898c-46f9-4b4a-a1ba-4514ffd43346"
      },
      "execution_count": 18,
      "outputs": [
        {
          "output_type": "display_data",
          "data": {
            "text/plain": [
              "<Figure size 432x288 with 1 Axes>"
            ],
            "image/png": "[encoded data removed]"
          },
          "metadata": {
            "needs_background": "light"
          }
        }
      ]
    },
    {
      "cell_type": "markdown",
      "source": [
        "# Análisis \n",
        "\n",
        "\n",
        "Según lo indicado en el gráfico las comparaciones del caso promedio no son tan alejadas la una de la otra a comparación del peor caso donde el número de comparaciones se dispara. Esto tiene mucho sentido tomando en cuenta que el caso promedio y el mejor caso ambas son O(n log n) y el peor caso O(n^2)"
      ],
      "metadata": {
        "id": "c8irY2dY2F6p"
      }
    }
  ]
}