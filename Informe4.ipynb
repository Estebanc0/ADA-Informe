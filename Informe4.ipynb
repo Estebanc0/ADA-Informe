{
  "nbformat": 4,
  "nbformat_minor": 0,
  "metadata": {
    "colab": {
      "provenance": [],
      "collapsed_sections": [],
      "authorship_tag": "ABX9TyO4j1DlsYOQn9XQpIRZVT7f",
      "include_colab_link": true
    },
    "kernelspec": {
      "name": "python3",
      "display_name": "Python 3"
    },
    "language_info": {
      "name": "python"
    }
  },
  "cells": [
    {
      "cell_type": "markdown",
      "metadata": {
        "id": "view-in-github",
        "colab_type": "text"
      },
      "source": [
        "<a href=\"https://colab.research.google.com/github/Estebanc0/ADA-Informes/blob/main/Informe4.ipynb\" target=\"_parent\"><img src=\"https://colab.research.google.com/assets/colab-badge.svg\" alt=\"Open In Colab\"/></a>"
      ]
    },
    {
      "cell_type": "markdown",
      "source": [
        "# Descripción del problema \n",
        "\n",
        "Problema: Ordenamiento de una secuencia de números.\n",
        "\n",
        "Entrada: Secuencia de n números.\n",
        "\n",
        "Salida: Secuencia ordenada de los números de entrada de menor a mayor.\n",
        "\n",
        "n = Tamaño del problema."
      ],
      "metadata": {
        "id": "TXayx5JZY6a9"
      }
    },
    {
      "cell_type": "markdown",
      "source": [
        "\n",
        "# Descripción del algoritmo \n",
        "\n",
        "\n",
        "La función quicksort comienza definiendo dos índices con el valor inicial (i) y el valor final (j) del arreglo(L) además de un pivote el cual es la mitad de la suma del valor inicial y el final.\n",
        "\n",
        "Luego dentro de un ciclo while el cual continúa hasta que i no sea menor que j\n",
        "\n",
        "\n",
        "\n",
        "1.   Se incrementa el valor de i mientras L[i] sea menor que el pivote \n",
        "\n",
        "2.   Se decrementa el valor de j mientras L[j] sea mayor que el pivote\n",
        "\n",
        "1.   Si se llegan a cruzar los índices (que i sea menor o igual que j) se crea una variable temporal para intercambiar los valores de l[j] y l[i] además se incrementa y decrementa i y j respectivamente\n",
        "\n",
        "2.   Se comprueba que j sea mayor que 0 y se comprueba que i sea menor al tamaño del arreglo-1 si alguna se cumple se llama recursivamente a quicksort ingresando el parámetro first o last como corresponda\n",
        "\n",
        "1.   Por último se retorna el arreglo ya ordenado"
      ],
      "metadata": {
        "id": "PQUnwt79avOA"
      }
    },
    {
      "cell_type": "code",
      "source": [
        "def partition(L,first,last,verbose=False):\n",
        "    global i\n",
        "    global j\n",
        "    global cont \n",
        "    \n",
        "    \n",
        "    cont+=1   \n",
        "    pivote = (L[i] + L[j]) / 2\n",
        "    if verbose==True:\n",
        "      print(\"Pasada numero \", cont,\"\\nArreglo entrante: \", L,\"\\n\" )\n",
        "\n",
        "    # iteramos hasta que i no sea menor que j\n",
        "    \n",
        "    while i < j:\n",
        "        \n",
        "        # iteramos mientras que el valor de L[i] sea menor que pivote\n",
        "        while L[i] < pivote:\n",
        "            # Incrementamos el índice\n",
        "            i+=1\n",
        "            \n",
        "        # iteramos mientras que el valor de L[j] sea mayor que pivote\n",
        "        while L[j] > pivote:\n",
        "            # decrementamos el índice\n",
        "            j-=1\n",
        "            \n",
        "        # si i es menor o igual que j significa que los índices se han cruzado\n",
        "        if i <= j:\n",
        "            # creamos una variable temporal para guardar el valor de L[j]\n",
        "            x = L[j]\n",
        "            # intercambiamos los valores de L[j] y L[i]\n",
        "            if verbose==True:\n",
        "              print(\"Se intercambia el valor\",L[j],\"con el valor\",L[i])\n",
        "              global aux\n",
        "              aux=aux+1\n",
        "              \n",
        "            L[j] = L[i]\n",
        "            L[i] = x\n",
        "            \n",
        "            # incrementamos y decrementamos i y j respectivamente\n",
        "            i+=1\n",
        "            j-=1\n"
      ],
      "metadata": {
        "id": "xHTY0-cBZ5ee"
      },
      "execution_count": null,
      "outputs": []
    },
    {
      "cell_type": "code",
      "source": [
        "def quicksort(L, first, last,verbose=False):\n",
        "  global aux\n",
        "  global i\n",
        "  global j\n",
        "  global comparaciones\n",
        "  aux=0\n",
        "  i=first\n",
        "  j=last\n",
        "  \n",
        "  if verbose==True:\n",
        "    partition(L,first,last,verbose=True)\n",
        "    if aux==0: print(\"No se realizaron intercambios\\n\")\n",
        "    else: print(\"\\n\")\n",
        "    if first < j:\n",
        "      L = quicksort(L, first, j,verbose=True)\n",
        "      comparaciones+=1\n",
        "    # si last es mayor que i mantenemos la recursividad\n",
        "    if last > i:\n",
        "      L = quicksort(L, i, last,verbose=True)\n",
        "      comparaciones+=1\n",
        "  else:\n",
        "      partition(L,first,last,verbose=False)\n",
        "      # si first es menor que j mantenemos la recursividad\n",
        "      if first < j:   \n",
        "          L = quicksort(L, first, j)\n",
        "          comparaciones+=1\n",
        "      # si last es mayor que i mantenemos la recursividad\n",
        "      if last > i:\n",
        "          L = quicksort(L, i, last)\n",
        "          comparaciones+=1\n",
        "\n",
        "    # devolvemos la lista ordenada\n",
        "  return L"
      ],
      "metadata": {
        "id": "DWZ9zYFeZTOc"
      },
      "execution_count": null,
      "outputs": []
    },
    {
      "cell_type": "code",
      "source": [
        "arreglo = [4,1,9,8,2,10,1,5,7,1]\n",
        "print(\"Antes de ordenarlo: \")\n",
        "print(arreglo)\n",
        "cont=0\n",
        "i=0\n",
        "j=len(arreglo)-1\n",
        "comparaciones=0\n",
        "quicksort(arreglo, 0, len(arreglo) - 1)\n",
        "print(\"Después de ordenarlo: \")\n",
        "print(arreglo)\n",
        "print(comparaciones)\n"
      ],
      "metadata": {
        "colab": {
          "base_uri": "https://localhost:8080/"
        },
        "id": "5u-JunWtZcKV",
        "outputId": "a1d8d66b-4a6d-4c15-bbbf-777ccf290e79"
      },
      "execution_count": null,
      "outputs": [
        {
          "output_type": "stream",
          "name": "stdout",
          "text": [
            "Antes de ordenarlo: \n",
            "[4, 1, 9, 8, 2, 10, 1, 5, 7, 1]\n",
            "Después de ordenarlo: \n",
            "[1, 1, 1, 2, 4, 5, 7, 8, 9, 10]\n",
            "14\n"
          ]
        }
      ]
    },
    {
      "cell_type": "markdown",
      "source": [
        "# -Paso a paso con la opción verbose"
      ],
      "metadata": {
        "id": "0yHhNVnQPlFz"
      }
    },
    {
      "cell_type": "code",
      "source": [
        "arreglo = [4,1,9,8,2,10,1,5,7,1]\n",
        "print(\"Antes de ordenarlo: \")\n",
        "print(arreglo)\n",
        "cont=0\n",
        "aux=0\n",
        "comparaciones=0\n",
        "quicksort(arreglo, 0, len(arreglo) - 1,verbose=True)\n",
        "print(\"Después de ordenarlo: \")\n",
        "print(arreglo)\n",
        "print(\"El algoritmo fue llamado recursivamente:\",cont-1,\"veces\")\n",
        "print(\"Total de comparaciones:\",comparaciones)"
      ],
      "metadata": {
        "colab": {
          "base_uri": "https://localhost:8080/"
        },
        "outputId": "3b90c7a5-1553-41cc-8382-ed28f4abb5ed",
        "id": "LHCWHqLNP2DU"
      },
      "execution_count": null,
      "outputs": [
        {
          "output_type": "stream",
          "name": "stdout",
          "text": [
            "Antes de ordenarlo: \n",
            "[4, 1, 9, 8, 2, 10, 1, 5, 7, 1]\n",
            "Pasada numero  1 \n",
            "Arreglo entrante:  [4, 1, 9, 8, 2, 10, 1, 5, 7, 1] \n",
            "\n",
            "Se intercambia el valor 1 con el valor 4\n",
            "Se intercambia el valor 1 con el valor 9\n",
            "Se intercambia el valor 2 con el valor 8\n",
            "\n",
            "\n",
            "Pasada numero  2 \n",
            "Arreglo entrante:  [1, 1, 1, 2, 8, 10, 9, 5, 7, 4] \n",
            "\n",
            "No se realizaron intercambios\n",
            "\n",
            "Pasada numero  3 \n",
            "Arreglo entrante:  [1, 1, 1, 2, 8, 10, 9, 5, 7, 4] \n",
            "\n",
            "Se intercambia el valor 1 con el valor 1\n",
            "\n",
            "\n",
            "Pasada numero  4 \n",
            "Arreglo entrante:  [1, 1, 1, 2, 8, 10, 9, 5, 7, 4] \n",
            "\n",
            "Se intercambia el valor 1 con el valor 1\n",
            "\n",
            "\n",
            "Pasada numero  5 \n",
            "Arreglo entrante:  [1, 1, 1, 2, 8, 10, 9, 5, 7, 4] \n",
            "\n",
            "Se intercambia el valor 1 con el valor 1\n",
            "\n",
            "\n",
            "Pasada numero  6 \n",
            "Arreglo entrante:  [1, 1, 1, 2, 8, 10, 9, 5, 7, 4] \n",
            "\n",
            "No se realizaron intercambios\n",
            "\n",
            "Pasada numero  7 \n",
            "Arreglo entrante:  [1, 1, 1, 2, 8, 10, 9, 5, 7, 4] \n",
            "\n",
            "No se realizaron intercambios\n",
            "\n",
            "Pasada numero  8 \n",
            "Arreglo entrante:  [1, 1, 1, 2, 8, 10, 9, 5, 7, 4] \n",
            "\n",
            "Se intercambia el valor 4 con el valor 8\n",
            "Se intercambia el valor 5 con el valor 10\n",
            "\n",
            "\n",
            "Pasada numero  9 \n",
            "Arreglo entrante:  [1, 1, 1, 2, 4, 5, 9, 10, 7, 8] \n",
            "\n",
            "No se realizaron intercambios\n",
            "\n",
            "Pasada numero  10 \n",
            "Arreglo entrante:  [1, 1, 1, 2, 4, 5, 9, 10, 7, 8] \n",
            "\n",
            "No se realizaron intercambios\n",
            "\n",
            "Pasada numero  11 \n",
            "Arreglo entrante:  [1, 1, 1, 2, 4, 5, 9, 10, 7, 8] \n",
            "\n",
            "No se realizaron intercambios\n",
            "\n",
            "Pasada numero  12 \n",
            "Arreglo entrante:  [1, 1, 1, 2, 4, 5, 9, 10, 7, 8] \n",
            "\n",
            "Se intercambia el valor 8 con el valor 9\n",
            "Se intercambia el valor 7 con el valor 10\n",
            "\n",
            "\n",
            "Pasada numero  13 \n",
            "Arreglo entrante:  [1, 1, 1, 2, 4, 5, 8, 7, 10, 9] \n",
            "\n",
            "Se intercambia el valor 7 con el valor 8\n",
            "\n",
            "\n",
            "Pasada numero  14 \n",
            "Arreglo entrante:  [1, 1, 1, 2, 4, 5, 7, 8, 10, 9] \n",
            "\n",
            "No se realizaron intercambios\n",
            "\n",
            "Pasada numero  15 \n",
            "Arreglo entrante:  [1, 1, 1, 2, 4, 5, 7, 8, 10, 9] \n",
            "\n",
            "Se intercambia el valor 9 con el valor 10\n",
            "\n",
            "\n",
            "Después de ordenarlo: \n",
            "[1, 1, 1, 2, 4, 5, 7, 8, 9, 10]\n",
            "El algoritmo fue llamado recursivamente: 14 veces\n",
            "Total de comparaciones: 14\n"
          ]
        }
      ]
    },
    {
      "cell_type": "markdown",
      "source": [
        "# -Ejemplo del código con el pivote como último elemento del arreglo"
      ],
      "metadata": {
        "id": "O0JK-F9yc0vf"
      }
    },
    {
      "cell_type": "code",
      "source": [
        "def partition_f(L,first,last):\n",
        "  i = first\n",
        "  j = last    \n",
        "  pivote =L[j]\n",
        "  while i < j:\n",
        "    # iteramos mientras que el valor de L[i] sea menor que pivote\n",
        "    while L[i] < pivote:\n",
        "        # Incrementamos el índice\n",
        "        i+=1\n",
        "    # iteramos mientras que el valor de L[j] sea mayor que pivote\n",
        "    while L[j] > pivote:\n",
        "        # decrementamos el índice\n",
        "        j-=1\n",
        "    # si i es menor o igual que j significa que los índices se han cruzado\n",
        "    if i <= j:\n",
        "        # creamos una variable temporal para guardar el valor de L[j]\n",
        "        x = L[j]\n",
        "        # intercambiamos los valores de L[j] y L[i]\n",
        "        L[j] = L[i]\n",
        "        L[i] = x\n",
        "        # incrementamos y decrementamos i y j respectivamente\n",
        "        i+=1\n",
        "        j-=1\n",
        "        return i,j    \n"
      ],
      "metadata": {
        "id": "JKSZsP1BZVDd"
      },
      "execution_count": null,
      "outputs": []
    },
    {
      "cell_type": "code",
      "source": [
        "def quicksort_f(L, first, last):\n",
        "  global cont_f\n",
        "  i=first\n",
        "  j=last\n",
        "  i,j=partition_f(L , first , last)\n",
        "\n",
        "  if first < j:\n",
        "      L = quicksort_f(L, first, j)\n",
        "      cont_f+=1\n",
        "  if last > i:\n",
        "      L = quicksort_f(L, i, last)\n",
        "      cont_f+=1\n",
        "   \n",
        "  return L"
      ],
      "metadata": {
        "id": "2wo_MVblZJyo"
      },
      "execution_count": null,
      "outputs": []
    },
    {
      "cell_type": "code",
      "source": [
        "arreglo = [4,1,9,8,2,10,1,5,7,53]\n",
        "print(\"Antes de ordenarlo: \")\n",
        "print(arreglo)\n",
        "cont_f=0\n",
        "quicksort_f(arreglo, 0, len(arreglo) - 1)\n",
        "print(\"Después de ordenarlo: \")\n",
        "print(arreglo)\n",
        "print(\"iteraciones:\",cont_f)"
      ],
      "metadata": {
        "colab": {
          "base_uri": "https://localhost:8080/"
        },
        "outputId": "ea33f028-462d-41ff-ac68-5c03de1658d3",
        "id": "izKYGLH8dHQp"
      },
      "execution_count": null,
      "outputs": [
        {
          "output_type": "stream",
          "name": "stdout",
          "text": [
            "Antes de ordenarlo: \n",
            "[4, 1, 9, 8, 2, 10, 1, 5, 7, 53]\n",
            "Después de ordenarlo: \n",
            "[1, 1, 2, 4, 5, 7, 8, 9, 10, 53]\n",
            "iteraciones: 27\n"
          ]
        }
      ]
    },
    {
      "cell_type": "markdown",
      "source": [
        "# -Ejemplo del código con el pivote como primer elemento del arreglo"
      ],
      "metadata": {
        "id": "wTiGXo3dfL6N"
      }
    },
    {
      "cell_type": "code",
      "source": [
        "def partition_p(L,first,last):\n",
        "  i = first\n",
        "  j = last    \n",
        "  pivote =L[i]\n",
        "  while i < j:\n",
        "    # iteramos mientras que el valor de L[i] sea menor que pivote\n",
        "    while L[i] < pivote:\n",
        "        # Incrementamos el índice\n",
        "        i+=1\n",
        "    # iteramos mientras que el valor de L[j] sea mayor que pivote\n",
        "    while L[j] > pivote:\n",
        "        # decrementamos el índice\n",
        "        j-=1\n",
        "    # si i es menor o igual que j significa que los índices se han cruzado\n",
        "    if i <= j:\n",
        "        # creamos una variable temporal para guardar el valor de L[j]\n",
        "        x = L[j]\n",
        "        # intercambiamos los valores de L[j] y L[i]\n",
        "        L[j] = L[i]\n",
        "        L[i] = x\n",
        "        # incrementamos y decrementamos i y j respectivamente\n",
        "        i+=1\n",
        "        j-=1\n",
        "        return i,j    \n"
      ],
      "metadata": {
        "id": "QXGkbuI1WKRm"
      },
      "execution_count": null,
      "outputs": []
    },
    {
      "cell_type": "code",
      "source": [
        "def quicksort_p(L, first, last):\n",
        "  global cont_p\n",
        "  i=first\n",
        "  j=last\n",
        "  i,j=partition_p(L , first , last)\n",
        "\n",
        "  if first < j:\n",
        "      L = quicksort_p(L, first, j)\n",
        "      cont_p+=1\n",
        "  if last > i:\n",
        "      L = quicksort_p(L, i, last)\n",
        "      cont_p+=1\n",
        "   \n",
        "  return L"
      ],
      "metadata": {
        "id": "eQ0cjpImfLFD"
      },
      "execution_count": null,
      "outputs": []
    },
    {
      "cell_type": "code",
      "source": [
        "arreglo = [4,1,9,8,2,10,1,5,7,53]\n",
        "print(\"Antes de ordenarlo: \")\n",
        "print(arreglo)\n",
        "cont_p=0\n",
        "quicksort_p(arreglo, 0, len(arreglo) - 1)\n",
        "print(\"Después de ordenarlo: \")\n",
        "print(arreglo)\n",
        "print(\"iteraciones:\",cont_p)"
      ],
      "metadata": {
        "colab": {
          "base_uri": "https://localhost:8080/"
        },
        "id": "4UhnJJPdfe1b",
        "outputId": "e8b45698-b02e-4c3f-edc6-bb8ec02140d3"
      },
      "execution_count": null,
      "outputs": [
        {
          "output_type": "stream",
          "name": "stdout",
          "text": [
            "Antes de ordenarlo: \n",
            "[4, 1, 9, 8, 2, 10, 1, 5, 7, 53]\n",
            "Después de ordenarlo: \n",
            "[1, 1, 2, 4, 5, 7, 8, 9, 10, 53]\n",
            "iteraciones: 26\n"
          ]
        }
      ]
    },
    {
      "cell_type": "markdown",
      "source": [
        "# PROPIEDADES DEL ALGORITMO"
      ],
      "metadata": {
        "id": "MWg7el_2ALfh"
      }
    },
    {
      "cell_type": "markdown",
      "source": [
        "\n",
        "# Tiempo de ejecución\n",
        "\n",
        "\n",
        "\n",
        "Función de recurrencia t(n)= 2* t(n/2)+n\n",
        "\n",
        "\n",
        "\n",
        "a=2 , b=2, d=1\n",
        "\n",
        "\n",
        "\n",
        "Por teorema maestro: a=b^d\n",
        "\n",
        "\n",
        "\n",
        "\n",
        "\n",
        "El peor caso ocurre cuando el pivote siempre se inclina hacia un solo lado es decir siempre queda un arreglo de 1 elemento en este caso posee un tiempo de ejecución de O(n^2) y en el mejor de los casos O(n log n)"
      ],
      "metadata": {
        "id": "yu4-iiUxQVz1"
      }
    },
    {
      "cell_type": "markdown",
      "source": [
        "# COMPARACIÓN DE TIEMPOS DE EJECUCIÓN ENTRE EL MERGE SORT Y EL QUICK SORT"
      ],
      "metadata": {
        "id": "BZzc8bKSFbVr"
      }
    },
    {
      "cell_type": "code",
      "source": [
        "def merge(a1,a2):\n",
        "  a_ordenado = []\n",
        "  i = 0\n",
        "  j = 0\n",
        "  while( i < len(a1) and  j < len(a2)):\n",
        "    if (a1[i] < a2[j]):\n",
        "      a_ordenado.append(a1[i])\n",
        "      i = i + 1\n",
        "    else:\n",
        "      a_ordenado.append(a2[j])\n",
        "      j = j + 1\n",
        "  a_ordenado = a_ordenado + a1[i:]\n",
        "  a_ordenado = a_ordenado + a2[j:]\n",
        "  return a_ordenado\n"
      ],
      "metadata": {
        "id": "NBj-SCXPrML_"
      },
      "execution_count": null,
      "outputs": []
    },
    {
      "cell_type": "code",
      "source": [
        "def mergeSort(a, verbose = False):\n",
        "\n",
        "  if len(a) < 2:\n",
        "    return a\n",
        "  else:\n",
        "    x = len(a) // 2\n",
        "    y = mergeSort(a[:x])\n",
        "    z = mergeSort(a[x:])\n",
        "    \n",
        "    return merge(y,z)\n",
        "    \n"
      ],
      "metadata": {
        "id": "QEM6Np9brFhL"
      },
      "execution_count": null,
      "outputs": []
    },
    {
      "cell_type": "code",
      "source": [
        "import matplotlib.pyplot as plt\n",
        "import datetime\n",
        "import random\n",
        "from timeit import repeat\n",
        "\n",
        "x=[]; y=[]; z=[]\n",
        "cont = 0\n",
        "\n",
        "for n in range(5,500):\n",
        "\n",
        "  a = random.sample(range(1, 1000), n)\n",
        "  size = len(a)\n",
        "  t = repeat(setup=\"from __main__ import quicksort\", stmt=f\"quicksort({a},{0}, {size - 1})\", repeat=1, number=10)\n",
        "  e = repeat(setup=\"from __main__ import mergeSort\", stmt=f\"mergeSort({a})\", repeat=1, number=10)\n",
        "  x.append(n)\n",
        "  y.append(t)\n",
        "  z.append(e)\n",
        "\n",
        "\n",
        "plt.plot(x,y,z)\n",
        "plt.legend([\"Quick Sort\",\"Merge Sort\"])\n",
        "\n",
        "plt.xlabel('n')\n",
        "plt.ylabel('Tiempo en ms')\n",
        "plt.show()"
      ],
      "metadata": {
        "colab": {
          "base_uri": "https://localhost:8080/",
          "height": 279
        },
        "id": "PUg1E8IN0S4x",
        "outputId": "fa8d9cef-908a-4769-d831-cd61adf2b3d1"
      },
      "execution_count": null,
      "outputs": [
        {
          "output_type": "display_data",
          "data": {
            "text/plain": [
              "<Figure size 432x288 with 1 Axes>"
            ],
            "image/png": "[encoded data removed]"
          },
          "metadata": {
            "needs_background": "light"
          }
        }
      ]
    },
    {
      "cell_type": "markdown",
      "source": [
        "# Análisis\n",
        "\n",
        "\n",
        "Según lo que muestra el gráfico el tiempo de ejecucion experiemntal entre mergesort y quicksort es bastante similar aunque quicksort se muestra mas eficiente en algunos casos, esto se debe a la imnplementacion del codigo ya que se supone que quicksort es mas eficiente que mergesort"
      ],
      "metadata": {
        "id": "SNrDwM3S1E3V"
      }
    },
    {
      "cell_type": "markdown",
      "source": [],
      "metadata": {
        "id": "B2CT-G5yFhg9"
      }
    },
    {
      "cell_type": "code",
      "source": [
        "import matplotlib.pyplot as plt\n",
        "import random\n",
        "\n",
        "x=[n for n in range(5,20)] \n",
        "y1=[n*(n-1)/2 for n in range(5,20)] #peor  \n",
        "y2=[n-1 for n in range(5,20)] #mejor\n",
        "y=[]\n",
        "cont = 0\n",
        "\n",
        "for n in range(5,20):\n",
        "  b = random.sample(range(1, 100), n)\n",
        "  size = len(b)\n",
        "  b = quicksort(b, 0, size - 1)\n",
        "  y.append(cont)\n",
        "\n",
        "plt.plot(x,y)\n",
        "plt.plot(x,y1)\n",
        "plt.plot(x,y2)\n",
        "plt.legend([\"Quick Sort\", \"Peor caso\", \"Mejor caso\"])\n",
        "\n",
        "plt.xlabel('n')\n",
        "plt.ylabel('número de operaciones')\n",
        "plt.show()"
      ],
      "metadata": {
        "colab": {
          "base_uri": "https://localhost:8080/",
          "height": 279
        },
        "id": "g9CiDbfH1EDz",
        "outputId": "4ed35f2d-0d0b-4f1b-c2bd-1d9b54b1d329"
      },
      "execution_count": null,
      "outputs": [
        {
          "output_type": "display_data",
          "data": {
            "text/plain": [
              "<Figure size 432x288 with 1 Axes>"
            ],
            "image/png": "[encoded data removed]"
          },
          "metadata": {
            "needs_background": "light"
          }
        }
      ]
    },
    {
      "cell_type": "markdown",
      "source": [
        "# Análisis \n",
        "\n",
        "\n",
        "Según lo indicado en el grafico el caso promedio se inclina más a su peor caso. Esto ocurre, ya que, el algoritmo, solo es eficiente con pocos elementos, cuando el tamaño del arreglo es pequeño.En este experimento se tomo como pivote la mediana entre el primer y ultimo elemento "
      ],
      "metadata": {
        "id": "c8irY2dY2F6p"
      }
    }
  ]
}