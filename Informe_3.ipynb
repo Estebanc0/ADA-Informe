{
  "nbformat": 4,
  "nbformat_minor": 0,
  "metadata": {
    "colab": {
      "name": "Informe 3.ipynb",
      "provenance": [],
      "authorship_tag": "ABX9TyM1T/QvEMeRpW8Yd0LYOmKU",
      "include_colab_link": true
    },
    "kernelspec": {
      "name": "python3",
      "display_name": "Python 3"
    },
    "language_info": {
      "name": "python"
    }
  },
  "cells": [
    {
      "cell_type": "markdown",
      "metadata": {
        "id": "view-in-github",
        "colab_type": "text"
      },
      "source": [
        "<a href=\"https://colab.research.google.com/github/Estebanc0/ADA-Informes/blob/main/Informe_3.ipynb\" target=\"_parent\"><img src=\"https://colab.research.google.com/assets/colab-badge.svg\" alt=\"Open In Colab\"/></a>"
      ]
    },
    {
      "cell_type": "markdown",
      "source": [
        "#Descripcion del problema\n",
        "\n",
        "\n",
        "Problema:Encontrar la suma más grande posible dentro de un arreglo.\n",
        "\n",
        "\n",
        "\n",
        "Entrada: Secuencia de n números siendo n el tamaño del arreglo con un orden al azar.\n",
        "\n",
        "\n",
        "\n",
        "Salida: El resultado de la máxima suma posible en el array. \n",
        "\n",
        "\n",
        "\n",
        "Este algoritmo podría ser de utilidad para ver la mayor racha de victorias en algún juego"
      ],
      "metadata": {
        "id": "oljejB99Yqvy"
      }
    },
    {
      "cell_type": "markdown",
      "source": [
        "# Descripción del Algoritmo \n",
        "\n",
        "\n",
        "\n",
        "\n",
        "Se le entrega al algoritmo un arreglo que puede contener enteros positivos y negativos y se espera que encuentre la suma de subarreglo contiguo de números que tiene la suma más grande.\n",
        "\n",
        "\n",
        "\n",
        "1- Se divide el array en dos subarrays iguales.\n",
        "\n",
        "\n",
        "\n",
        "2- Se calcula recursivamente la suma máxima de subarray para el subarray izquierdo.\n",
        "\n",
        "\n",
        "\n",
        "3- Se calcula recursivamente la suma máxima de subarray para el subarray derecho.\n",
        "\n",
        "\n",
        "\n",
        "4- Se encuentra la suma máxima del subarray que cruza el elemento del medio.\n",
        "\n",
        "\n",
        "\n",
        "5- Por último se devuelve el máximo de las tres sumas anteriores.\n"
      ],
      "metadata": {
        "id": "nWhSRqmSZa2C"
      }
    },
    {
      "cell_type": "markdown",
      "source": [
        "A continuación el algoritmo y un ejemplo de su ejecución"
      ],
      "metadata": {
        "id": "evchPNC_M5JB"
      }
    },
    {
      "cell_type": "code",
      "source": [
        "# Función para encontrar la suma máxima del array usando divide y vencerás\n",
        "import sys\n",
        " \n",
        "\n",
        "def findMaximumSum(nums, left=None, right=None):\n",
        "    if not nums:\n",
        "        return 0\n",
        " \n",
        "    if left is None and right is None:\n",
        "        left, right = 0, len(nums) - 1\n",
        "    if right == left:\n",
        "        return nums[left]\n",
        "\n",
        "    #encuentra el elememto medio de la lista    \n",
        "    mid = (left + right) // 2\n",
        "    leftMax = -sys.maxsize\n",
        "    total = 0\n",
        "\n",
        "    #encuentra la maxima suma del lado izquierdo\n",
        "    for i in range(mid, left - 1, -1):\n",
        "        total += nums[i]\n",
        "        if total > leftMax:\n",
        "            leftMax = total\n",
        "    rightMax = -sys.maxsize\n",
        "    total = 0        \n",
        " \n",
        "    #encuentra la maxima suma del lado derecho\n",
        "    for i in range(mid + 1, right + 1):\n",
        "        total += nums[i]\n",
        "        if total > rightMax:\n",
        "            rightMax = total\n",
        "    #toma el maximo de la suma máxima de los subarray de la izquierda y de la derecha       \n",
        "    maxLeftRight = max(findMaximumSum(nums, left, mid),\n",
        "                    findMaximumSum(nums, mid + 1, right))\n",
        "    #retorna el maximo de los 3\n",
        "    return max(maxLeftRight, leftMax + rightMax)"
      ],
      "metadata": {
        "id": "vrxLnDSfRSpw"
      },
      "execution_count": 52,
      "outputs": []
    },
    {
      "cell_type": "code",
      "source": [
        "array =[0, 1,-4, 7, 3, 5] \n",
        "print(\"La suma maxima contenida es: \",findMaximumSum(array))\n"
      ],
      "metadata": {
        "colab": {
          "base_uri": "https://localhost:8080/"
        },
        "id": "Lsg-R3dBEFrd",
        "outputId": "445f05cb-e105-43e5-a057-74a5efebf6c9"
      },
      "execution_count": 51,
      "outputs": [
        {
          "output_type": "stream",
          "name": "stdout",
          "text": [
            "La suma maxima contenida es:  15\n"
          ]
        }
      ]
    },
    {
      "cell_type": "code",
      "source": [
        "# max subarraymid\n",
        "def maxCrossingSum(arr, l, m, h):\n",
        " \n",
        "    sm = 0\n",
        "    left_sum = -10000\n",
        " \n",
        "    for i in range(m, l-1, -1):\n",
        "        sm = sm + arr[i]\n",
        " \n",
        "        if (sm > left_sum):\n",
        "            left_sum = sm\n",
        " \n",
        "\n",
        "    sm = 0\n",
        "    right_sum = -1000\n",
        "    for i in range(m, h + 1):\n",
        "        sm = sm + arr[i]\n",
        " \n",
        "        if (sm > right_sum):\n",
        "            right_sum = sm\n",
        " \n",
        "\n",
        "    return max(left_sum + right_sum - arr[m], left_sum, right_sum)\n",
        " \n",
        " \n",
        "\n",
        "def maxSubArraySum(arr, l, h):\n",
        "    if (l > h):\n",
        "        return -10000\n",
        "    if (l == h):\n",
        "        return arr[l]\n",
        " \n",
        "\n",
        "    m = (l + h) // 2\n",
        " \n",
        "\n",
        "    return max(maxSubArraySum(arr, l, m-1),\n",
        "               maxSubArraySum(arr, m+1, h),\n",
        "               maxCrossingSum(arr, l, m, h))\n",
        " \n",
        " \n",
        "\n",
        "arr = [0, 1,-4, 2, -2,1, 3, 2]\n",
        "n = len(arr)\n",
        " \n",
        "max_sum = maxSubArraySum(arr, 0, n-1)\n",
        "print(\"La suma maxima contenida es: \", max_sum)"
      ],
      "metadata": {
        "colab": {
          "base_uri": "https://localhost:8080/"
        },
        "id": "B4SA3kRpZzay",
        "outputId": "793388e2-697b-459c-e2f1-90190a0ac39d"
      },
      "execution_count": 34,
      "outputs": [
        {
          "output_type": "stream",
          "name": "stdout",
          "text": [
            "La suma maxima contenida es:  6\n"
          ]
        }
      ]
    },
    {
      "cell_type": "markdown",
      "source": [
        "#Correctitud maxSubArraySum (MaxSubArrayMid)\n",
        "\n"
      ],
      "metadata": {
        "id": "LpN_cVdlVfMN"
      }
    },
    {
      "cell_type": "markdown",
      "source": [
        "#Tiempo de ejecución\n",
        "La complejidad temporal de la solución divide y vencerás es O(n.log(n)) en cuanto al array dado de tamaño n, hacemos dos llamadas recursivos en el tamaño de entrada n/2 y encontrar el punto medio máximo de cruces de subarray, toma O(n) tiempo en el peor de los casos."
      ],
      "metadata": {
        "id": "Jx3Br1HfY0Gc"
      }
    },
    {
      "cell_type": "markdown",
      "source": [
        "# Experimentación"
      ],
      "metadata": {
        "id": "akcSLal9ZKQV"
      }
    },
    {
      "cell_type": "code",
      "source": [
        "def kadane(A):\n",
        " \n",
        "    # almacena la sublista de suma máxima encontrada hasta el momento\n",
        "    max_so_far = 0\n",
        " \n",
        "    # almacena la suma máxima de la sublista que termina en la posición actual\n",
        "    max_ending_here = 0\n",
        " \n",
        "    # recorrer la lista dada\n",
        "    for i in A:\n",
        "        # actualice la suma máxima de la sublista \"finalizando\" en el índice `i` (agregando el\n",
        "        # elemento actual a la suma máxima que termina en el índice anterior `i-1`)\n",
        "        max_ending_here = max_ending_here + i\n",
        " \n",
        "        # si la suma máxima es negativa, configúrelo en 0 (lo que representa\n",
        "        # una sublista vacía)\n",
        "        max_ending_here = max(max_ending_here, 0)\n",
        " \n",
        "        # actualiza el resultado si se encuentra que la suma de la sublista actual es mayor\n",
        "        max_so_far = max(max_so_far, max_ending_here)\n",
        " \n",
        "    return max_so_far"
      ],
      "metadata": {
        "id": "-w6Hfl_UZgL8"
      },
      "execution_count": 11,
      "outputs": []
    },
    {
      "cell_type": "code",
      "source": [
        "import matplotlib.pyplot as plt\n",
        "import datetime\n",
        "import random\n",
        "from timeit import repeat\n",
        "\n",
        "x=[]; y=[]; z=[]\n",
        "\n",
        "for n in range(5,500):\n",
        "\n",
        "  a = random.sample(range(-1000, 1000), n)\n",
        "\n",
        " \n",
        "  t = repeat(setup=\"from __main__ import kadane\", stmt=f\"kadane({a})\", repeat=1, number=10)\n",
        "  h = repeat(setup=\"from __main__ import findMaximumSum\", stmt=f\"findMaximumSum({a})\", repeat=1, number=10)\n",
        "\n",
        "  x.append(n)\n",
        "  y.append(t)\n",
        "  z.append(h)\n",
        "\n",
        "plt.plot(x,y,z)\n",
        "plt.legend([\"kadane\",\"Divide y venceras\"])\n",
        "plt.xlabel('Tamaño del array')\n",
        "plt.ylabel('time in ms')\n",
        "plt.show()"
      ],
      "metadata": {
        "colab": {
          "base_uri": "https://localhost:8080/",
          "height": 281
        },
        "id": "57xkGmAIZh8q",
        "outputId": "46781093-f866-4bd6-c108-4ee438685037"
      },
      "execution_count": 15,
      "outputs": [
        {
          "output_type": "display_data",
          "data": {
            "text/plain": [
              "<Figure size 432x288 with 1 Axes>"
            ],
            "image/png": "[encoded data removed]"
          },
          "metadata": {
            "needs_background": "light"
          }
        }
      ]
    },
    {
      "cell_type": "markdown",
      "source": [
        "# Análisis:\n",
        "\n",
        "\n",
        "El algoritmo de kanade es mucho más eficiente que el de enfoque divide y conquistaras era algo obvio teniendo en cuenta que kanade posee una complejidad temporal de O(n) y el enfoque divide y vencerás una de O(nlogn)"
      ],
      "metadata": {
        "id": "-PiDzgyxaGCt"
      }
    },
    {
      "cell_type": "markdown",
      "source": [
        "# Comparativa del tiempo de ejecución entre la solución ingenua y el enfoque divide y vencerás"
      ],
      "metadata": {
        "id": "uxBjNq02539Y"
      }
    },
    {
      "cell_type": "code",
      "source": [
        "import sys\n",
        "def ingenua(nums):\n",
        " \n",
        "    maxSum = -sys.maxsize\n",
        " \n",
        "    # do para cada sublista que comience con `i`\n",
        "    for i in range(len(nums)):\n",
        " \n",
        "        # calcula la suma de la sublista `nums[i…j]`\n",
        " \n",
        "        total = 0        # suma de reinicio\n",
        " \n",
        "        # do para cada sublista que termina en `j`\n",
        "        for j in range(i, len(nums)):\n",
        "            total += nums[j]\n",
        " \n",
        "            # si la suma de la sublista actual es mayor que la suma máxima\n",
        "            # calculado hasta ahora, actualice la suma máxima\n",
        "            if total > maxSum:\n",
        "                maxSum = total\n",
        " \n",
        "    return maxSum"
      ],
      "metadata": {
        "id": "IXQN3-dQ6NEJ"
      },
      "execution_count": 12,
      "outputs": []
    },
    {
      "cell_type": "code",
      "source": [
        "import matplotlib.pyplot as plt\n",
        "import datetime\n",
        "import random\n",
        "from timeit import repeat\n",
        "\n",
        "x=[]; y=[]; z=[]\n",
        "\n",
        "for n in range(5,500):\n",
        "\n",
        "  a = random.sample(range(-1000, 1000), n)\n",
        "\n",
        " \n",
        "  t = repeat(setup=\"from __main__ import findMaximumSum\", stmt=f\"findMaximumSum({a})\", repeat=1, number=10)\n",
        "  h = repeat(setup=\"from __main__ import ingenua\", stmt=f\"ingenua({a})\", repeat=1, number=10)\n",
        "  \n",
        "  x.append(n)\n",
        "  \n",
        "  y.append(t)\n",
        "  z.append(h)\n",
        "\n",
        "plt.plot(x,y,z,)\n",
        "plt.legend([\"divide y venceras\",\"ingenua\"])\n",
        "plt.xlabel('Tamaño del array')\n",
        "plt.ylabel('time in ms')\n",
        "plt.show()"
      ],
      "metadata": {
        "id": "9xkIT6aLajzy",
        "colab": {
          "base_uri": "https://localhost:8080/",
          "height": 279
        },
        "outputId": "44c8aa1a-f7bd-498f-eaf9-1a0065154b4a"
      },
      "execution_count": 10,
      "outputs": [
        {
          "output_type": "display_data",
          "data": {
            "text/plain": [
              "<Figure size 432x288 with 1 Axes>"
            ],
            "image/png": "[encoded data removed]"
          },
          "metadata": {
            "needs_background": "light"
          }
        }
      ]
    },
    {
      "cell_type": "markdown",
      "source": [
        "# Análisis\n",
        "\n",
        "\n",
        "La solución ingenua es muy simple y fácil de implementar, pero como se logra ver en el gráfico es muy ineficiente en el peor de los casos tiene una complejidad de O(n^2) con estos resultados frente al enfoque divide y vencerás la diferencia de eficiencia con el algoritmo de kanade es abismal"
      ],
      "metadata": {
        "id": "qi-qLpEd77MR"
      }
    }
  ]
}