{
  "nbformat": 4,
  "nbformat_minor": 0,
  "metadata": {
    "colab": {
      "name": "informe 1.ipynb",
      "provenance": [],
      "collapsed_sections": [],
      "authorship_tag": "ABX9TyM5AO5nUR9wuFx49MWNNDdi",
      "include_colab_link": true
    },
    "kernelspec": {
      "name": "python3",
      "display_name": "Python 3"
    },
    "language_info": {
      "name": "python"
    }
  },
  "cells": [
    {
      "cell_type": "markdown",
      "metadata": {
        "id": "view-in-github",
        "colab_type": "text"
      },
      "source": [
        "<a href=\"https://colab.research.google.com/github/Estebanc0/ADA-Informes/blob/main/informe_1.ipynb\" target=\"_parent\"><img src=\"https://colab.research.google.com/assets/colab-badge.svg\" alt=\"Open In Colab\"/></a>"
      ]
    },
    {
      "cell_type": "markdown",
      "source": [
        "# 1. Descripción del problema:\n",
        "\n",
        "Problema: Ordenar una secuencia de números \n",
        "\n",
        "Entrada: Secuencia de n números siendo n el tamaño del arreglo con un orden al azar\n",
        "\n",
        "Salida: Misma secuencia de numeros ordenada de menor a mayor\n",
        "\n"
      ],
      "metadata": {
        "id": "BVg_q68d4twO"
      }
    },
    {
      "cell_type": "markdown",
      "source": [
        "# 2. Descripción del algoritmo:\n",
        "\n",
        "Se creo la funcion insertion_sort como entrada recibe un arreglo con n numeros y como salida devuelve el mismo arreglo pero ordenado de menor a mayor.\n",
        "1. se crea una variable contador que lleva la cuenta de las comparaciones \n",
        "realizadas\n",
        "2. se inicia un ciclo for desde la segunda posicion del arreglo hasta la posicion final \n",
        "3. se inicia una variable auxiliar la cual guarda el valor de array[i]\n",
        "4. se inicia variable k con valor i-1\n",
        "5. se inicia un ciclo while el cual compara la posicion array[k] con la variable aux para determinar si aux es menor que array[k]\n",
        "6. si la condicion anterior se cumple se aumenta 1 en el contador\n",
        "7. se remplaza el valor de array[k+1] con el de array[k]\n",
        "8. se disminuye en 1 el valor de k (esto se repite mientras la condicion condicion no se cumpla)\n",
        "9. al salir del siclo while se cambia el valor del array[k+1] con el de nuestro auxiliar y vuelve a entrar en el ciclo for hasta que se cumpla el rango\n",
        "10. al final retorna el array ordenado y la variable contador\n",
        "\n"
      ],
      "metadata": {
        "id": "tS4jYtqsChhU"
      }
    },
    {
      "cell_type": "markdown",
      "source": [
        "# 3. Implementación del algoritmo:"
      ],
      "metadata": {
        "id": "-Vv-cuoa92bL"
      }
    },
    {
      "cell_type": "code",
      "execution_count": null,
      "metadata": {
        "colab": {
          "base_uri": "https://localhost:8080/"
        },
        "id": "0IYM0K-p4AGx",
        "outputId": "5badea12-2518-407d-f0ae-6e41a96b25f6"
      },
      "outputs": [
        {
          "output_type": "stream",
          "name": "stdout",
          "text": [
            "Entrada:  [18, 34, 76, 42, 51, 64, 64, 66, 71, 100]\n",
            "Salida:  [18, 34, 42, 51, 64, 64, 66, 71, 76, 100]\n",
            "Iteraciones:  6\n"
          ]
        }
      ],
      "source": [
        "def insertion_sort(array, verbose=False):\n",
        "  #se inician las variables\n",
        "  t=0#se encarga de contar el numero de iteracones realizadas\n",
        "  y=0\n",
        "  n=len(array)\n",
        "  if verbose == True: print(\"input array:\",array)\n",
        "  #for encargado de recorrer el arreglo\n",
        "  for i in range(1,len(array)):\n",
        "    if verbose == True: print(\"\\nPasada\",i)\n",
        "    already_sorted = True\n",
        "    aux=array[i]\n",
        "    k=i-1\n",
        "    #ciclo en el que se realizan los cambios de posicion \n",
        "    while k>=0 and aux<array[k]:\n",
        "      t=t+1\n",
        "      array[k+1]=array[k]\n",
        "      if already_sorted== True and verbose==True: \n",
        "        print(str(array[:k])[1:-1],\",\",colored(f\"{str(array[k:k+2])[1:-1]}\",\"red\"),\",\",str(array[k+2:])[1:-1])\n",
        "      k-=1\n",
        "      already_sorted = False\n",
        "    array[k+1]=aux\n",
        "  \n",
        "    if t==y and verbose==True:\n",
        "      print(array)\n",
        "    y=t\n",
        "    if verbose == True: \n",
        "      print(\"\\nAl finalizar pasada:\")\n",
        "      print(str(array[:n-i])[1:-1],\",\",colored(f\"{str(array[n-i:])[1:-1]}\",\"blue\"))\n",
        "  \n",
        "  if already_sorted:\n",
        "    if verbose == True: print(\"is sorted!\")\n",
        "      \n",
        "    \n",
        "  if verbose == True: print(\"\\noutput array:\",array)\n",
        "\n",
        "  return array, t\n",
        "\n",
        "#Ejemplo\n",
        "from termcolor import colored\n",
        "import numpy as np\n",
        "array=[18,34,76,42,51,64,64,66,71,100]\n",
        "print(\"Entrada: \",array)\n",
        "array,t=insertion_sort(array)\n",
        "\n",
        "print(\"Salida: \",array)\n",
        "print(\"Iteraciones: \",t)\n"
      ]
    },
    {
      "cell_type": "markdown",
      "source": [
        "# 3-2. Ejemplo: \n",
        " \n",
        "A continuacion se mostrar un ejemplo con la siguiente secuencia de numeros [5,6,2,8,7]\n",
        "\n",
        "\n",
        "*   En la primera pasada no se realizan cambios\n",
        "[5,6,2,8,7]\n",
        "*   En la segunda pasada se intercambia el 2 a la primera posición y los números 5 y 6 se mueven una posición a la derecha\n",
        "[2,5,6,8,7]\n",
        "*   En la tercera pasada no se realizan cambios\n",
        "[2,5,6,8,7]\n",
        "*   En la cuarta pasada el numero 8 se intercambia de posicion con el numero 7\n",
        "[5,6,2,7,8]\n",
        "\n",
        "\n",
        "\n",
        "\n",
        "\n",
        "\n"
      ],
      "metadata": {
        "id": "peYVx3-cQ7Xp"
      }
    },
    {
      "cell_type": "markdown",
      "source": [
        "# 3-3. Ejecución del algoritmo paso a paso"
      ],
      "metadata": {
        "id": "a6L8WodfX6cn"
      }
    },
    {
      "cell_type": "code",
      "source": [
        "import random\n",
        "a = random.sample(range(1, 100), 6)\n",
        "a,c= insertion_sort(a,verbose=True)"
      ],
      "metadata": {
        "colab": {
          "base_uri": "https://localhost:8080/"
        },
        "id": "OA47nKdVRMCU",
        "outputId": "127f0c1b-0282-4283-be3a-d9fd41cfd95e"
      },
      "execution_count": null,
      "outputs": [
        {
          "output_type": "stream",
          "name": "stdout",
          "text": [
            "input array: [88, 80, 56, 5, 9, 32]\n",
            "\n",
            "Pasada 1\n",
            " , \u001b[31m88, 88\u001b[0m , 56, 5, 9, 32\n",
            "\n",
            "Al finalizar pasada:\n",
            "80, 88, 56, 5, 9 , \u001b[34m32\u001b[0m\n",
            "\n",
            "Pasada 2\n",
            "80 , \u001b[31m88, 88\u001b[0m , 5, 9, 32\n",
            "\n",
            "Al finalizar pasada:\n",
            "56, 80, 88, 5 , \u001b[34m9, 32\u001b[0m\n",
            "\n",
            "Pasada 3\n",
            "56, 80 , \u001b[31m88, 88\u001b[0m , 9, 32\n",
            "\n",
            "Al finalizar pasada:\n",
            "5, 56, 80 , \u001b[34m88, 9, 32\u001b[0m\n",
            "\n",
            "Pasada 4\n",
            "5, 56, 80 , \u001b[31m88, 88\u001b[0m , 32\n",
            "\n",
            "Al finalizar pasada:\n",
            "5, 9 , \u001b[34m56, 80, 88, 32\u001b[0m\n",
            "\n",
            "Pasada 5\n",
            "5, 9, 56, 80 , \u001b[31m88, 88\u001b[0m , \n",
            "\n",
            "Al finalizar pasada:\n",
            "5 , \u001b[34m9, 32, 56, 80, 88\u001b[0m\n",
            "\n",
            "output array: [5, 9, 32, 56, 80, 88]\n"
          ]
        }
      ]
    },
    {
      "cell_type": "markdown",
      "source": [
        "# 4. Propiedades del algoritmo"
      ],
      "metadata": {
        "id": "T6WD5jO9-NBU"
      }
    },
    {
      "cell_type": "markdown",
      "source": [
        "# 4-1. Tiempo de ejecución:\n",
        "\n",
        "Insertion sort en el peor caso tiene un tiempo de ejecucion de O(n^2) y en mejor caso un tiempo de ejecucion de O(n) \n",
        "\n",
        "Prueba del teorema: \n",
        "\n",
        "El peor de los casos se presenta cuando la secuencia ingresa con el menor de los numeros en la ultima posicion.\n",
        "\n",
        "El mejor de los casos ocurre cuando la secuencia ya se encuentra ordenada de menor a mayor al momentro de ingresar en el algoritmo\n"
      ],
      "metadata": {
        "id": "HqtralrtYeNN"
      }
    },
    {
      "cell_type": "markdown",
      "source": [
        "# 4-2. Ejemplo de peor caso:"
      ],
      "metadata": {
        "id": "LEfrPfQ4ZQtM"
      }
    },
    {
      "cell_type": "code",
      "source": [
        "array=[11, 7, 5, 3, 2]\n",
        "print(\"Entrada: \",array)\n",
        "array,t=insertion_sort(array,verbose=True)\n",
        "\n",
        "print(\"Salida: \",array)\n",
        "print(\"Iteraciones: \",t)"
      ],
      "metadata": {
        "colab": {
          "base_uri": "https://localhost:8080/"
        },
        "id": "Mwrzc10IZWXF",
        "outputId": "55cf87eb-f04e-422e-c8ad-898359c951f5"
      },
      "execution_count": null,
      "outputs": [
        {
          "output_type": "stream",
          "name": "stdout",
          "text": [
            "Entrada:  [11, 7, 5, 3, 2]\n",
            "input array: [11, 7, 5, 3, 2]\n",
            "\n",
            "Pasada 1\n",
            " , \u001b[31m11, 11\u001b[0m , 5, 3, 2\n",
            "\n",
            "Al finalizar pasada:\n",
            "7, 11, 5, 3 , \u001b[34m2\u001b[0m\n",
            "\n",
            "Pasada 2\n",
            "7 , \u001b[31m11, 11\u001b[0m , 3, 2\n",
            "\n",
            "Al finalizar pasada:\n",
            "5, 7, 11 , \u001b[34m3, 2\u001b[0m\n",
            "\n",
            "Pasada 3\n",
            "5, 7 , \u001b[31m11, 11\u001b[0m , 2\n",
            "\n",
            "Al finalizar pasada:\n",
            "3, 5 , \u001b[34m7, 11, 2\u001b[0m\n",
            "\n",
            "Pasada 4\n",
            "3, 5, 7 , \u001b[31m11, 11\u001b[0m , \n",
            "\n",
            "Al finalizar pasada:\n",
            "2 , \u001b[34m3, 5, 7, 11\u001b[0m\n",
            "\n",
            "output array: [2, 3, 5, 7, 11]\n",
            "Salida:  [2, 3, 5, 7, 11]\n",
            "Iteraciones:  10\n"
          ]
        }
      ]
    },
    {
      "cell_type": "markdown",
      "source": [
        "# 4-3. Correctitud:\n",
        "\n",
        "Teorema:\n",
        "Entra un arreglo [a1,a2,a3.....an] y se espera que el algoritmo lo reorne ordenado de menor a mayor.\n",
        "\n",
        "Prueba del teorema:\n",
        "\n",
        "(propiedad de bucle invariante)\n",
        "\n",
        "Insertion Sort no modifica los elementos que contiene el arreglo asi que en cada interación el arreglo conendra los mismos elementos que el arreglo original pero ordenados de menor a mayor.\n",
        "\n",
        "inicialización:\n",
        "\n",
        "Al incio i tiene un valor de 1 por lo tanto la primera pocision del arreglo sera la de [i-1] y en esta posición se encontrará el primer elemento ordenado.\n",
        "\n",
        "mantención:\n",
        "\n",
        "como nuestra posicion [i-1] es la que se encuentra ordenada al comenzar a recorrer el arreglo el algoritmo ira cambiando la posicion del siguiente elemento a la posicion i que le corresponda y como salida nos dara el arreglo ordenado de menor a mayor.\n",
        "\n",
        "Ambas afirmaciones cumplen con las propiedades del bucle.\n"
      ],
      "metadata": {
        "id": "B6PhpzxL-RDo"
      }
    },
    {
      "cell_type": "markdown",
      "source": [
        "# 5. Experimentos y análisis:"
      ],
      "metadata": {
        "id": "-PuMCpp6-SVU"
      }
    },
    {
      "cell_type": "code",
      "source": [
        "import matplotlib.pyplot as plt\n",
        "\n",
        "x=[n for n in range(5,20)] \n",
        "y1=[n*(n-1)/2 for n in range(5,20)] #peor caso \n",
        "y2=[n-1 for n in range(5,20)] #mejor caso\n",
        "y=[]; \n",
        "\n",
        "for n in range(5,20):\n",
        "  a = random.sample(range(1, 100), n)\n",
        "  a,cont = insertion_sort(a)\n",
        "  y.append(cont)\n",
        "\n",
        "plt.plot(x,y)\n",
        "plt.plot(x,y1)\n",
        "plt.plot(x,y2)\n",
        "plt.legend([\"Insertion Sort\", \"Peor caso\", \"Mejor caso\"])\n",
        "\n",
        "plt.xlabel('n')\n",
        "plt.ylabel('numero de operaciones')\n",
        "plt.show()"
      ],
      "metadata": {
        "colab": {
          "base_uri": "https://localhost:8080/",
          "height": 279
        },
        "id": "WJX6QUBIF9Xl",
        "outputId": "f6a4aafc-b888-4054-f993-cf77264d8b9e"
      },
      "execution_count": null,
      "outputs": [
        {
          "output_type": "display_data",
          "data": {
            "text/plain": [
              "<Figure size 432x288 with 1 Axes>"
            ],
            "image/png": "[encoded data removed]"
          },
          "metadata": {
            "needs_background": "light"
          }
        }
      ]
    },
    {
      "cell_type": "markdown",
      "source": [
        "# Interpretación de los resultados:\n",
        "\n",
        "Por los resultados obtenidos podemos concluir que cada caso tiene un tiempo de ejecucion distinto ya que las 3 lineas que se pueden ver se encuentran bastante aisladas\n"
      ],
      "metadata": {
        "id": "aSrVjkl9EWcD"
      }
    },
    {
      "cell_type": "markdown",
      "source": [
        "# Tiempo de ejecucion experimental:"
      ],
      "metadata": {
        "id": "BegTn_lXFOZV"
      }
    },
    {
      "cell_type": "code",
      "source": [
        "import matplotlib.pyplot as plt\n",
        "import datetime\n",
        "from timeit import repeat\n",
        "\n",
        "x=[]; y=[]\n",
        "\n",
        "for n in range(5,500):\n",
        "\n",
        "  a = random.sample(range(1, 1000), n)\n",
        "  t = repeat(setup=\"from __main__ import insertion_sort\", stmt=f\"insertion_sort({a})\", repeat=1, number=10)\n",
        "\n",
        "  x.append(n)\n",
        "  y.append(t)\n",
        "\n",
        "\n",
        "plt.plot(x,y)\n",
        "plt.legend([\"Insertion Sort\"])\n",
        "\n",
        "plt.xlabel('n')\n",
        "plt.ylabel('Tiempo en ms')\n",
        "plt.show()"
      ],
      "metadata": {
        "colab": {
          "base_uri": "https://localhost:8080/",
          "height": 281
        },
        "id": "zDJDdG68FSq8",
        "outputId": "dca71523-571c-4f81-df19-7eadb90b406d"
      },
      "execution_count": null,
      "outputs": [
        {
          "output_type": "display_data",
          "data": {
            "text/plain": [
              "<Figure size 432x288 with 1 Axes>"
            ],
            "image/png": "[encoded data removed]"
          },
          "metadata": {
            "needs_background": "light"
          }
        }
      ]
    },
    {
      "cell_type": "markdown",
      "source": [
        "# Interpretación de los resultados:\n",
        "\n",
        "Por los resultados obtenidos podemos concluir que como se esperaba a medida que aumenta el tamaño del arreglo el tiempo de ejecucion igual aumenta."
      ],
      "metadata": {
        "id": "YiEhUNNAF0vz"
      }
    },
    {
      "cell_type": "markdown",
      "source": [
        "# Comparacion de los tiempos de ejecucion de bubble sort y insertion sort:\n",
        "\n",
        "\n",
        "Algoritmo bubble sort para realizar la comparacion"
      ],
      "metadata": {
        "id": "1gCRfPYDKiN4"
      }
    },
    {
      "cell_type": "code",
      "source": [
        "import random\n",
        "from termcolor import colored\n",
        "import copy\n",
        "\n",
        "def bubble_sort(a, verbose=False):\n",
        "    n = len(a)\n",
        "    T = 0 #contador de comparaciones\n",
        "\n",
        "    if verbose == True: print(\"input array:\",a)\n",
        "\n",
        "    for i in range(1,n+1):\n",
        "        if verbose == True: print(\"\\nPasada\",i)\n",
        "        # Flag que indica si el arreglo ya se encuentra ordenado\n",
        "        already_sorted = True\n",
        "\n",
        "        # Se recorre el arreglo\n",
        "        for j in range(n - i):\n",
        "            T +=1\n",
        "            if a[j] > a[j + 1]:\n",
        "                # Si el elemento es mayor al siguiente se intercambia\n",
        "                a[j], a[j + 1] = a[j + 1], a[j]\n",
        "                if verbose == True: \n",
        "                  print(str(a[:j])[1:-1],\",\",colored(f\"{str(a[j:j+2])[1:-1]}\",\"red\"),\",\",str(a[j+2:])[1:-1])\n",
        "\n",
        "                already_sorted = False\n",
        "\n",
        "        if already_sorted == False and verbose == True: \n",
        "           print(\"\\nAl finalizar pasada:\")\n",
        "           print(str(a[:n-i])[1:-1],\",\",colored(f\"{str(a[n-i:])[1:-1]}\",\"blue\"))\n",
        "\n",
        "        if already_sorted:\n",
        "            if verbose == True: print(\"is sorted!\")\n",
        "            break\n",
        "\n",
        "    if verbose == True: print(\"\\noutput array:\",a)\n",
        "\n",
        "    return a, T\n"
      ],
      "metadata": {
        "id": "3T07ek_gIKxr"
      },
      "execution_count": null,
      "outputs": []
    },
    {
      "cell_type": "code",
      "source": [
        "import matplotlib.pyplot as plt\n",
        "import datetime\n",
        "from timeit import repeat\n",
        "\n",
        "x=[]; y=[]; z=[]\n",
        "\n",
        "for n in range(5,500):\n",
        "\n",
        "  a = random.sample(range(1, 1000), n)\n",
        "\n",
        " \n",
        "  t = repeat(setup=\"from __main__ import bubble_sort\", stmt=f\"bubble_sort({a})\", repeat=1, number=10)\n",
        "  h = repeat(setup=\"from __main__ import insertion_sort\", stmt=f\"insertion_sort({a})\", repeat=1, number=10)\n",
        "\n",
        "  x.append(n)\n",
        "  y.append(t)\n",
        "  z.append(h)\n",
        "\n",
        "plt.plot(x,y,z)\n",
        "plt.legend([\"BubbleSort\",\"InsertionSort\"])\n",
        "plt.xlabel('n')\n",
        "plt.ylabel('time in ms')\n",
        "plt.show()"
      ],
      "metadata": {
        "colab": {
          "base_uri": "https://localhost:8080/",
          "height": 279
        },
        "id": "AvaUG6SoSNV4",
        "outputId": "fc2716b2-5a36-40c3-feeb-4f630f90fa59"
      },
      "execution_count": 31,
      "outputs": [
        {
          "output_type": "display_data",
          "data": {
            "text/plain": [
              "<Figure size 432x288 with 1 Axes>"
            ],
            "image/png": "[encoded data removed]"
          },
          "metadata": {
            "needs_background": "light"
          }
        }
      ]
    },
    {
      "cell_type": "markdown",
      "source": [
        "# Interpretación de los resultados: \n",
        "\n",
        "Ambos algoritmos presentan un tiempo de ejecucion bastante similar al comienzo, pero a medida que aumenta el tamaño del arreglo el tiempo del bubblesort se hace bastante mayor a comparacion de el de el importsort, en conclusion el importsort tiene un tiempo de ejecucion menor que el de el bubblesort al trabajar con arreglos grandes"
      ],
      "metadata": {
        "id": "0DMm1LNWLLLg"
      }
    }
  ]
}